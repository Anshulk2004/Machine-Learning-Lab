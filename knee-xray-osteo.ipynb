{
 "cells": [
  {
   "cell_type": "code",
   "execution_count": 1,
   "id": "fdd2d762",
   "metadata": {
    "_cell_guid": "b1076dfc-b9ad-4769-8c92-a6c4dae69d19",
    "_uuid": "8f2839f25d086af736a60e9eeb907d3b93b6e0e5",
    "execution": {
     "iopub.execute_input": "2024-03-29T18:57:48.142259Z",
     "iopub.status.busy": "2024-03-29T18:57:48.141987Z",
     "iopub.status.idle": "2024-03-29T18:57:49.084993Z",
     "shell.execute_reply": "2024-03-29T18:57:49.084075Z"
    },
    "papermill": {
     "duration": 0.956299,
     "end_time": "2024-03-29T18:57:49.087140",
     "exception": false,
     "start_time": "2024-03-29T18:57:48.130841",
     "status": "completed"
    },
    "tags": []
   },
   "outputs": [
    {
     "name": "stdout",
     "output_type": "stream",
     "text": [
      "Python 3.10.13\r\n"
     ]
    }
   ],
   "source": [
    "!python --version"
   ]
  },
  {
   "cell_type": "code",
   "execution_count": 2,
   "id": "db9dabbb",
   "metadata": {
    "execution": {
     "iopub.execute_input": "2024-03-29T18:57:49.109228Z",
     "iopub.status.busy": "2024-03-29T18:57:49.108906Z",
     "iopub.status.idle": "2024-03-29T18:58:06.493821Z",
     "shell.execute_reply": "2024-03-29T18:58:06.492828Z"
    },
    "papermill": {
     "duration": 17.398677,
     "end_time": "2024-03-29T18:58:06.496128",
     "exception": false,
     "start_time": "2024-03-29T18:57:49.097451",
     "status": "completed"
    },
    "tags": []
   },
   "outputs": [
    {
     "name": "stdout",
     "output_type": "stream",
     "text": [
      "Collecting pennylane\r\n",
      "  Downloading PennyLane-0.35.1-py3-none-any.whl.metadata (9.1 kB)\r\n",
      "Requirement already satisfied: numpy in /opt/conda/lib/python3.10/site-packages (from pennylane) (1.24.4)\r\n",
      "Requirement already satisfied: scipy in /opt/conda/lib/python3.10/site-packages (from pennylane) (1.11.4)\r\n",
      "Requirement already satisfied: networkx in /opt/conda/lib/python3.10/site-packages (from pennylane) (3.2.1)\r\n",
      "Collecting rustworkx (from pennylane)\r\n",
      "  Downloading rustworkx-0.14.2-cp310-cp310-manylinux_2_17_x86_64.manylinux2014_x86_64.whl.metadata (10.0 kB)\r\n",
      "Collecting autograd (from pennylane)\r\n",
      "  Downloading autograd-1.6.2-py3-none-any.whl.metadata (706 bytes)\r\n",
      "Requirement already satisfied: toml in /opt/conda/lib/python3.10/site-packages (from pennylane) (0.10.2)\r\n",
      "Requirement already satisfied: appdirs in /opt/conda/lib/python3.10/site-packages (from pennylane) (1.4.4)\r\n",
      "Collecting semantic-version>=2.7 (from pennylane)\r\n",
      "  Downloading semantic_version-2.10.0-py2.py3-none-any.whl.metadata (9.7 kB)\r\n",
      "Collecting autoray>=0.6.1 (from pennylane)\r\n",
      "  Downloading autoray-0.6.9-py3-none-any.whl.metadata (5.7 kB)\r\n",
      "Requirement already satisfied: cachetools in /opt/conda/lib/python3.10/site-packages (from pennylane) (4.2.4)\r\n",
      "Collecting pennylane-lightning>=0.35 (from pennylane)\r\n",
      "  Downloading PennyLane_Lightning-0.35.1-cp310-cp310-manylinux_2_17_x86_64.manylinux2014_x86_64.whl.metadata (22 kB)\r\n",
      "Requirement already satisfied: requests in /opt/conda/lib/python3.10/site-packages (from pennylane) (2.31.0)\r\n",
      "Requirement already satisfied: typing-extensions in /opt/conda/lib/python3.10/site-packages (from pennylane) (4.9.0)\r\n",
      "Requirement already satisfied: future>=0.15.2 in /opt/conda/lib/python3.10/site-packages (from autograd->pennylane) (0.18.3)\r\n",
      "Requirement already satisfied: charset-normalizer<4,>=2 in /opt/conda/lib/python3.10/site-packages (from requests->pennylane) (3.3.2)\r\n",
      "Requirement already satisfied: idna<4,>=2.5 in /opt/conda/lib/python3.10/site-packages (from requests->pennylane) (3.6)\r\n",
      "Requirement already satisfied: urllib3<3,>=1.21.1 in /opt/conda/lib/python3.10/site-packages (from requests->pennylane) (1.26.18)\r\n",
      "Requirement already satisfied: certifi>=2017.4.17 in /opt/conda/lib/python3.10/site-packages (from requests->pennylane) (2023.11.17)\r\n",
      "Downloading PennyLane-0.35.1-py3-none-any.whl (1.6 MB)\r\n",
      "\u001b[2K   \u001b[90m━━━━━━━━━━━━━━━━━━━━━━━━━━━━━━━━━━━━━━━━\u001b[0m \u001b[32m1.6/1.6 MB\u001b[0m \u001b[31m7.9 MB/s\u001b[0m eta \u001b[36m0:00:00\u001b[0m\r\n",
      "\u001b[?25hDownloading autoray-0.6.9-py3-none-any.whl (49 kB)\r\n",
      "\u001b[2K   \u001b[90m━━━━━━━━━━━━━━━━━━━━━━━━━━━━━━━━━━━━━━━━\u001b[0m \u001b[32m49.8/49.8 kB\u001b[0m \u001b[31m3.3 MB/s\u001b[0m eta \u001b[36m0:00:00\u001b[0m\r\n",
      "\u001b[?25hDownloading PennyLane_Lightning-0.35.1-cp310-cp310-manylinux_2_17_x86_64.manylinux2014_x86_64.whl (18.5 MB)\r\n",
      "\u001b[2K   \u001b[90m━━━━━━━━━━━━━━━━━━━━━━━━━━━━━━━━━━━━━━━━\u001b[0m \u001b[32m18.5/18.5 MB\u001b[0m \u001b[31m57.5 MB/s\u001b[0m eta \u001b[36m0:00:00\u001b[0m\r\n",
      "\u001b[?25hDownloading semantic_version-2.10.0-py2.py3-none-any.whl (15 kB)\r\n",
      "Downloading autograd-1.6.2-py3-none-any.whl (49 kB)\r\n",
      "\u001b[2K   \u001b[90m━━━━━━━━━━━━━━━━━━━━━━━━━━━━━━━━━━━━━━━━\u001b[0m \u001b[32m49.3/49.3 kB\u001b[0m \u001b[31m2.9 MB/s\u001b[0m eta \u001b[36m0:00:00\u001b[0m\r\n",
      "\u001b[?25hDownloading rustworkx-0.14.2-cp310-cp310-manylinux_2_17_x86_64.manylinux2014_x86_64.whl (2.1 MB)\r\n",
      "\u001b[2K   \u001b[90m━━━━━━━━━━━━━━━━━━━━━━━━━━━━━━━━━━━━━━━━\u001b[0m \u001b[32m2.1/2.1 MB\u001b[0m \u001b[31m72.7 MB/s\u001b[0m eta \u001b[36m0:00:00\u001b[0m\r\n",
      "\u001b[?25hInstalling collected packages: semantic-version, rustworkx, autoray, autograd, pennylane-lightning, pennylane\r\n",
      "Successfully installed autograd-1.6.2 autoray-0.6.9 pennylane-0.35.1 pennylane-lightning-0.35.1 rustworkx-0.14.2 semantic-version-2.10.0\r\n"
     ]
    }
   ],
   "source": [
    "!pip install pennylane"
   ]
  },
  {
   "cell_type": "code",
   "execution_count": 3,
   "id": "8183e61e",
   "metadata": {
    "execution": {
     "iopub.execute_input": "2024-03-29T18:58:06.523365Z",
     "iopub.status.busy": "2024-03-29T18:58:06.522709Z",
     "iopub.status.idle": "2024-03-29T18:58:18.868799Z",
     "shell.execute_reply": "2024-03-29T18:58:18.867805Z"
    },
    "papermill": {
     "duration": 12.362123,
     "end_time": "2024-03-29T18:58:18.871174",
     "exception": false,
     "start_time": "2024-03-29T18:58:06.509051",
     "status": "completed"
    },
    "tags": []
   },
   "outputs": [
    {
     "name": "stdout",
     "output_type": "stream",
     "text": [
      "Collecting split-folders\r\n",
      "  Downloading split_folders-0.5.1-py3-none-any.whl.metadata (6.2 kB)\r\n",
      "Downloading split_folders-0.5.1-py3-none-any.whl (8.4 kB)\r\n",
      "Installing collected packages: split-folders\r\n",
      "Successfully installed split-folders-0.5.1\r\n"
     ]
    }
   ],
   "source": [
    "!pip install split-folders"
   ]
  },
  {
   "cell_type": "code",
   "execution_count": 4,
   "id": "a49d9994",
   "metadata": {
    "execution": {
     "iopub.execute_input": "2024-03-29T18:58:18.900075Z",
     "iopub.status.busy": "2024-03-29T18:58:18.899760Z",
     "iopub.status.idle": "2024-03-29T18:58:36.281113Z",
     "shell.execute_reply": "2024-03-29T18:58:36.280097Z"
    },
    "papermill": {
     "duration": 17.39978,
     "end_time": "2024-03-29T18:58:36.284073",
     "exception": false,
     "start_time": "2024-03-29T18:58:18.884293",
     "status": "completed"
    },
    "tags": []
   },
   "outputs": [
    {
     "name": "stderr",
     "output_type": "stream",
     "text": [
      "2024-03-29 18:58:22.247764: E external/local_xla/xla/stream_executor/cuda/cuda_dnn.cc:9261] Unable to register cuDNN factory: Attempting to register factory for plugin cuDNN when one has already been registered\n",
      "2024-03-29 18:58:22.247894: E external/local_xla/xla/stream_executor/cuda/cuda_fft.cc:607] Unable to register cuFFT factory: Attempting to register factory for plugin cuFFT when one has already been registered\n",
      "2024-03-29 18:58:22.423786: E external/local_xla/xla/stream_executor/cuda/cuda_blas.cc:1515] Unable to register cuBLAS factory: Attempting to register factory for plugin cuBLAS when one has already been registered\n"
     ]
    }
   ],
   "source": [
    "import pandas as pd\n",
    "import matplotlib.pyplot as plt\n",
    "import cv2\n",
    "import splitfolders\n",
    "\n",
    "import tensorflow as tf\n",
    "from tensorflow.keras.applications import ResNet152\n",
    "from tensorflow.keras.layers import Dense, Flatten\n",
    "from tensorflow.keras.models import Model\n",
    "import pennylane as qml\n",
    "from pennylane.templates import RandomLayers\n",
    "import numpy as np\n",
    "\n",
    "import matplotlib.pyplot as plt\n",
    "import os\n",
    "import PIL\n",
    "from tensorflow import keras\n",
    "from tensorflow.keras import layers\n",
    "from tensorflow.python.keras.layers import Dense, Flatten\n",
    "from tensorflow.keras.models import Sequential\n",
    "from tensorflow.keras.optimizers import Adam"
   ]
  },
  {
   "cell_type": "code",
   "execution_count": 5,
   "id": "eac64e80",
   "metadata": {
    "execution": {
     "iopub.execute_input": "2024-03-29T18:58:36.319377Z",
     "iopub.status.busy": "2024-03-29T18:58:36.318313Z",
     "iopub.status.idle": "2024-03-29T18:58:36.323241Z",
     "shell.execute_reply": "2024-03-29T18:58:36.322389Z"
    },
    "papermill": {
     "duration": 0.021186,
     "end_time": "2024-03-29T18:58:36.325268",
     "exception": false,
     "start_time": "2024-03-29T18:58:36.304082",
     "status": "completed"
    },
    "tags": []
   },
   "outputs": [],
   "source": [
    "img_height,img_width=224,224\n",
    "\n",
    "batch_size=32"
   ]
  },
  {
   "cell_type": "markdown",
   "id": "13ec42ed",
   "metadata": {
    "papermill": {
     "duration": 0.013053,
     "end_time": "2024-03-29T18:58:36.351148",
     "exception": false,
     "start_time": "2024-03-29T18:58:36.338095",
     "status": "completed"
    },
    "tags": []
   },
   "source": [
    "# Data Preparation"
   ]
  },
  {
   "cell_type": "code",
   "execution_count": 6,
   "id": "20307342",
   "metadata": {
    "execution": {
     "iopub.execute_input": "2024-03-29T18:58:36.379326Z",
     "iopub.status.busy": "2024-03-29T18:58:36.378714Z",
     "iopub.status.idle": "2024-03-29T18:58:36.385757Z",
     "shell.execute_reply": "2024-03-29T18:58:36.384929Z"
    },
    "papermill": {
     "duration": 0.023092,
     "end_time": "2024-03-29T18:58:36.387853",
     "exception": false,
     "start_time": "2024-03-29T18:58:36.364761",
     "status": "completed"
    },
    "tags": []
   },
   "outputs": [],
   "source": [
    "import tensorflow as tf\n",
    "from tensorflow.keras.applications import ResNet152\n",
    "from tensorflow.keras.layers import Dense, Flatten\n",
    "from tensorflow.keras.models import Model\n",
    "import pennylane as qml\n",
    "from pennylane.templates import RandomLayers\n",
    "import numpy as np\n",
    "\n",
    "import matplotlib.pyplot as plt\n",
    "import os\n",
    "import PIL\n",
    "from tensorflow import keras\n",
    "from tensorflow.keras import layers\n",
    "from tensorflow.python.keras.layers import Dense, Flatten\n",
    "from tensorflow.keras.models import Sequential\n",
    "from tensorflow.keras.optimizers import Adam"
   ]
  },
  {
   "cell_type": "code",
   "execution_count": 7,
   "id": "a2656eac",
   "metadata": {
    "execution": {
     "iopub.execute_input": "2024-03-29T18:58:36.415945Z",
     "iopub.status.busy": "2024-03-29T18:58:36.415410Z",
     "iopub.status.idle": "2024-03-29T18:58:36.421638Z",
     "shell.execute_reply": "2024-03-29T18:58:36.420779Z"
    },
    "papermill": {
     "duration": 0.022276,
     "end_time": "2024-03-29T18:58:36.423910",
     "exception": false,
     "start_time": "2024-03-29T18:58:36.401634",
     "status": "completed"
    },
    "tags": []
   },
   "outputs": [],
   "source": [
    "def split_data(data_path, output_path):\n",
    "    train_data_dir =  data_path + '/train' \n",
    "    val_data_dir =  data_path + '/val'\n",
    "    test_data_dir = data_path + '/test'\n",
    "    \n",
    "    \n",
    "    train_ds = tf.keras.preprocessing.image_dataset_from_directory(\n",
    "      train_data_dir,\n",
    "      seed=123,\n",
    "      image_size=(img_height, img_width),\n",
    "      batch_size=batch_size)\n",
    "    \n",
    "    val_ds = tf.keras.preprocessing.image_dataset_from_directory(\n",
    "      val_data_dir,\n",
    "      seed=123,\n",
    "      image_size=(img_height, img_width),\n",
    "      batch_size=batch_size)\n",
    "\n",
    "    \n",
    "    test_ds = tf.keras.preprocessing.image_dataset_from_directory(\n",
    "        test_data_dir,\n",
    "        batch_size=batch_size,\n",
    "        image_size=(img_height, img_width),\n",
    "        seed=123\n",
    "    )\n",
    "    return train_ds, val_ds, test_ds"
   ]
  },
  {
   "cell_type": "code",
   "execution_count": 8,
   "id": "ee014856",
   "metadata": {
    "execution": {
     "iopub.execute_input": "2024-03-29T18:58:36.454246Z",
     "iopub.status.busy": "2024-03-29T18:58:36.453927Z",
     "iopub.status.idle": "2024-03-29T18:58:41.552814Z",
     "shell.execute_reply": "2024-03-29T18:58:41.552041Z"
    },
    "papermill": {
     "duration": 5.114768,
     "end_time": "2024-03-29T18:58:41.554859",
     "exception": false,
     "start_time": "2024-03-29T18:58:36.440091",
     "status": "completed"
    },
    "tags": []
   },
   "outputs": [
    {
     "name": "stdout",
     "output_type": "stream",
     "text": [
      "Found 5778 files belonging to 5 classes.\n",
      "Found 826 files belonging to 5 classes.\n",
      "Found 1656 files belonging to 5 classes.\n"
     ]
    }
   ],
   "source": [
    "train_ds, val_ds, test_ds = split_data('/kaggle/input/knee-osteoarthritis-dataset-with-severity', '/kaggle/working/atpos')"
   ]
  },
  {
   "cell_type": "code",
   "execution_count": 9,
   "id": "6779474f",
   "metadata": {
    "execution": {
     "iopub.execute_input": "2024-03-29T18:58:41.584013Z",
     "iopub.status.busy": "2024-03-29T18:58:41.583497Z",
     "iopub.status.idle": "2024-03-29T18:58:41.587915Z",
     "shell.execute_reply": "2024-03-29T18:58:41.587026Z"
    },
    "papermill": {
     "duration": 0.020883,
     "end_time": "2024-03-29T18:58:41.589975",
     "exception": false,
     "start_time": "2024-03-29T18:58:41.569092",
     "status": "completed"
    },
    "tags": []
   },
   "outputs": [
    {
     "name": "stdout",
     "output_type": "stream",
     "text": [
      "['0', '1', '2', '3', '4']\n"
     ]
    }
   ],
   "source": [
    "class_names = train_ds.class_names\n",
    "print(class_names)"
   ]
  },
  {
   "cell_type": "code",
   "execution_count": 10,
   "id": "78ddb3f2",
   "metadata": {
    "execution": {
     "iopub.execute_input": "2024-03-29T18:58:41.617623Z",
     "iopub.status.busy": "2024-03-29T18:58:41.617060Z",
     "iopub.status.idle": "2024-03-29T18:58:41.621280Z",
     "shell.execute_reply": "2024-03-29T18:58:41.620436Z"
    },
    "papermill": {
     "duration": 0.020245,
     "end_time": "2024-03-29T18:58:41.623343",
     "exception": false,
     "start_time": "2024-03-29T18:58:41.603098",
     "status": "completed"
    },
    "tags": []
   },
   "outputs": [
    {
     "name": "stdout",
     "output_type": "stream",
     "text": [
      "['0', '1', '2', '3', '4']\n"
     ]
    }
   ],
   "source": [
    "class_names = val_ds.class_names\n",
    "print(class_names)"
   ]
  },
  {
   "cell_type": "code",
   "execution_count": 11,
   "id": "270dd80e",
   "metadata": {
    "execution": {
     "iopub.execute_input": "2024-03-29T18:58:41.651168Z",
     "iopub.status.busy": "2024-03-29T18:58:41.650911Z",
     "iopub.status.idle": "2024-03-29T18:58:42.835287Z",
     "shell.execute_reply": "2024-03-29T18:58:42.834357Z"
    },
    "papermill": {
     "duration": 1.201977,
     "end_time": "2024-03-29T18:58:42.838918",
     "exception": false,
     "start_time": "2024-03-29T18:58:41.636941",
     "status": "completed"
    },
    "tags": []
   },
   "outputs": [
    {
     "data": {
      "image/png": "[encoded data removed]",
      "text/plain": [
       "<Figure size 1000x1000 with 6 Axes>"
      ]
     },
     "metadata": {},
     "output_type": "display_data"
    }
   ],
   "source": [
    "import matplotlib.pyplot as plt\n",
    "\n",
    "plt.figure(figsize=(10, 10))\n",
    "for images, labels in train_ds.take(1):\n",
    "  for i in range(6):\n",
    "    ax = plt.subplot(3, 3, i + 1)\n",
    "    plt.imshow(images[i].numpy().astype(\"uint8\"))\n",
    "    plt.title(class_names[labels[i]])\n",
    "    plt.axis(\"off\")"
   ]
  },
  {
   "cell_type": "code",
   "execution_count": 12,
   "id": "2aeb5164",
   "metadata": {
    "execution": {
     "iopub.execute_input": "2024-03-29T18:58:42.872258Z",
     "iopub.status.busy": "2024-03-29T18:58:42.871975Z",
     "iopub.status.idle": "2024-03-29T18:58:43.936977Z",
     "shell.execute_reply": "2024-03-29T18:58:43.935816Z"
    },
    "papermill": {
     "duration": 1.084032,
     "end_time": "2024-03-29T18:58:43.939190",
     "exception": false,
     "start_time": "2024-03-29T18:58:42.855158",
     "status": "completed"
    },
    "tags": []
   },
   "outputs": [
    {
     "name": "stdout",
     "output_type": "stream",
     "text": [
      "Fri Mar 29 18:58:43 2024       \r\n",
      "+---------------------------------------------------------------------------------------+\r\n",
      "| NVIDIA-SMI 535.129.03             Driver Version: 535.129.03   CUDA Version: 12.2     |\r\n",
      "|-----------------------------------------+----------------------+----------------------+\r\n",
      "| GPU  Name                 Persistence-M | Bus-Id        Disp.A | Volatile Uncorr. ECC |\r\n",
      "| Fan  Temp   Perf          Pwr:Usage/Cap |         Memory-Usage | GPU-Util  Compute M. |\r\n",
      "|                                         |                      |               MIG M. |\r\n",
      "|=========================================+======================+======================|\r\n",
      "|   0  Tesla T4                       Off | 00000000:00:04.0 Off |                    0 |\r\n",
      "| N/A   39C    P0              26W /  70W |  14053MiB / 15360MiB |      0%      Default |\r\n",
      "|                                         |                      |                  N/A |\r\n",
      "+-----------------------------------------+----------------------+----------------------+\r\n",
      "|   1  Tesla T4                       Off | 00000000:00:05.0 Off |                    0 |\r\n",
      "| N/A   38C    P0              27W /  70W |    103MiB / 15360MiB |      0%      Default |\r\n",
      "|                                         |                      |                  N/A |\r\n",
      "+-----------------------------------------+----------------------+----------------------+\r\n",
      "                                                                                         \r\n",
      "+---------------------------------------------------------------------------------------+\r\n",
      "| Processes:                                                                            |\r\n",
      "|  GPU   GI   CI        PID   Type   Process name                            GPU Memory |\r\n",
      "|        ID   ID                                                             Usage      |\r\n",
      "|=======================================================================================|\r\n",
      "+---------------------------------------------------------------------------------------+\r\n"
     ]
    }
   ],
   "source": [
    "!nvidia-smi"
   ]
  },
  {
   "cell_type": "markdown",
   "id": "ef0d1bda",
   "metadata": {
    "papermill": {
     "duration": 0.015904,
     "end_time": "2024-03-29T18:58:43.971857",
     "exception": false,
     "start_time": "2024-03-29T18:58:43.955953",
     "status": "completed"
    },
    "tags": []
   },
   "source": [
    "# MODEL TRAINING\n"
   ]
  },
  {
   "cell_type": "code",
   "execution_count": 13,
   "id": "59038cd6",
   "metadata": {
    "execution": {
     "iopub.execute_input": "2024-03-29T18:58:44.007333Z",
     "iopub.status.busy": "2024-03-29T18:58:44.006542Z",
     "iopub.status.idle": "2024-03-29T18:58:44.011287Z",
     "shell.execute_reply": "2024-03-29T18:58:44.010401Z"
    },
    "papermill": {
     "duration": 0.024146,
     "end_time": "2024-03-29T18:58:44.013321",
     "exception": false,
     "start_time": "2024-03-29T18:58:43.989175",
     "status": "completed"
    },
    "tags": []
   },
   "outputs": [],
   "source": [
    "tf.keras.backend.set_floatx('float32')"
   ]
  },
  {
   "cell_type": "markdown",
   "id": "3a245c10",
   "metadata": {
    "papermill": {
     "duration": 0.01571,
     "end_time": "2024-03-29T18:58:44.044960",
     "exception": false,
     "start_time": "2024-03-29T18:58:44.029250",
     "status": "completed"
    },
    "tags": []
   },
   "source": [
    "## QUANTUM PART"
   ]
  },
  {
   "cell_type": "code",
   "execution_count": 14,
   "id": "b1c8b462",
   "metadata": {
    "execution": {
     "iopub.execute_input": "2024-03-29T18:58:44.077982Z",
     "iopub.status.busy": "2024-03-29T18:58:44.077733Z",
     "iopub.status.idle": "2024-03-29T18:58:44.084463Z",
     "shell.execute_reply": "2024-03-29T18:58:44.083655Z"
    },
    "papermill": {
     "duration": 0.025357,
     "end_time": "2024-03-29T18:58:44.086256",
     "exception": false,
     "start_time": "2024-03-29T18:58:44.060899",
     "status": "completed"
    },
    "tags": []
   },
   "outputs": [],
   "source": [
    "n_qubits = 4\n",
    "dev = qml.device(\"default.qubit\", wires=n_qubits)\n",
    "\n",
    "@qml.qnode(dev)\n",
    "def qnode(inputs, weights):\n",
    "    qml.AngleEmbedding(inputs, wires=range(n_qubits))\n",
    "    qml.BasicEntanglerLayers(weights, wires=range(n_qubits))\n",
    "    return [qml.expval(qml.PauliZ(wires=i)) for i in range(n_qubits)]"
   ]
  },
  {
   "cell_type": "code",
   "execution_count": 15,
   "id": "7bc33239",
   "metadata": {
    "execution": {
     "iopub.execute_input": "2024-03-29T18:58:44.119052Z",
     "iopub.status.busy": "2024-03-29T18:58:44.118779Z",
     "iopub.status.idle": "2024-03-29T18:58:44.122756Z",
     "shell.execute_reply": "2024-03-29T18:58:44.121900Z"
    },
    "papermill": {
     "duration": 0.022538,
     "end_time": "2024-03-29T18:58:44.124527",
     "exception": false,
     "start_time": "2024-03-29T18:58:44.101989",
     "status": "completed"
    },
    "tags": []
   },
   "outputs": [],
   "source": [
    "n_layers = 3\n",
    "weight_shapes = {\"weights\": (n_layers, n_qubits)}"
   ]
  },
  {
   "cell_type": "code",
   "execution_count": 16,
   "id": "968a128e",
   "metadata": {
    "execution": {
     "iopub.execute_input": "2024-03-29T18:58:44.158268Z",
     "iopub.status.busy": "2024-03-29T18:58:44.157684Z",
     "iopub.status.idle": "2024-03-29T18:58:44.212394Z",
     "shell.execute_reply": "2024-03-29T18:58:44.211656Z"
    },
    "papermill": {
     "duration": 0.073708,
     "end_time": "2024-03-29T18:58:44.214292",
     "exception": false,
     "start_time": "2024-03-29T18:58:44.140584",
     "status": "completed"
    },
    "tags": []
   },
   "outputs": [],
   "source": [
    "qlayer = qml.qnn.KerasLayer(qnode, weight_shapes, output_dim=n_qubits)"
   ]
  },
  {
   "cell_type": "markdown",
   "id": "fc6f6ba9",
   "metadata": {
    "papermill": {
     "duration": 0.016068,
     "end_time": "2024-03-29T18:58:44.246619",
     "exception": false,
     "start_time": "2024-03-29T18:58:44.230551",
     "status": "completed"
    },
    "tags": []
   },
   "source": [
    "## CLASSICAL PART"
   ]
  },
  {
   "cell_type": "code",
   "execution_count": 17,
   "id": "98c1ccd1",
   "metadata": {
    "execution": {
     "iopub.execute_input": "2024-03-29T18:58:44.280691Z",
     "iopub.status.busy": "2024-03-29T18:58:44.280174Z",
     "iopub.status.idle": "2024-03-29T18:58:44.284355Z",
     "shell.execute_reply": "2024-03-29T18:58:44.283544Z"
    },
    "papermill": {
     "duration": 0.023594,
     "end_time": "2024-03-29T18:58:44.286404",
     "exception": false,
     "start_time": "2024-03-29T18:58:44.262810",
     "status": "completed"
    },
    "tags": []
   },
   "outputs": [],
   "source": [
    "INPUT = (img_height,img_width, 3)"
   ]
  },
  {
   "cell_type": "code",
   "execution_count": 18,
   "id": "6a37b1be",
   "metadata": {
    "execution": {
     "iopub.execute_input": "2024-03-29T18:58:44.321713Z",
     "iopub.status.busy": "2024-03-29T18:58:44.321027Z",
     "iopub.status.idle": "2024-03-29T18:58:44.325324Z",
     "shell.execute_reply": "2024-03-29T18:58:44.324417Z"
    },
    "papermill": {
     "duration": 0.023886,
     "end_time": "2024-03-29T18:58:44.327297",
     "exception": false,
     "start_time": "2024-03-29T18:58:44.303411",
     "status": "completed"
    },
    "tags": []
   },
   "outputs": [],
   "source": [
    "from tensorflow.keras.layers import Dense,Conv2D,MaxPooling2D,BatchNormalization,Dropout,Flatten"
   ]
  },
  {
   "cell_type": "code",
   "execution_count": 19,
   "id": "2a30c7a4",
   "metadata": {
    "execution": {
     "iopub.execute_input": "2024-03-29T18:58:44.362540Z",
     "iopub.status.busy": "2024-03-29T18:58:44.362243Z",
     "iopub.status.idle": "2024-03-29T18:58:44.369951Z",
     "shell.execute_reply": "2024-03-29T18:58:44.369090Z"
    },
    "papermill": {
     "duration": 0.027748,
     "end_time": "2024-03-29T18:58:44.371882",
     "exception": false,
     "start_time": "2024-03-29T18:58:44.344134",
     "status": "completed"
    },
    "tags": []
   },
   "outputs": [],
   "source": [
    "def show_results(pretrained_model, epochs, lr):\n",
    "    model = Sequential()\n",
    "\n",
    "    for layer in pretrained_model.layers:\n",
    "            layer.trainable=False\n",
    "\n",
    "    model.add(pretrained_model)\n",
    "    model.add(Flatten())\n",
    "#     model.add(Dense(512, activation='relu'))\n",
    "    model.add(Dense(128, activation='relu'))\n",
    "#     model.add(Dense(64, activation='relu'))\n",
    "    model.add(Dense(32, activation='relu'))\n",
    "#     model.add(Dense(16, activation='relu'))\n",
    "    model.add(Dense(8, activation='relu'))\n",
    "    model.add(Dense(4, activation='relu'))\n",
    "    model.add(qlayer)\n",
    "    model.add(Dense(5, activation='softmax'))\n",
    "    \n",
    "    \n",
    "    model.summary()\n",
    "    \n",
    "    \n",
    "    model.compile(optimizer=Adam(lr),loss='sparse_categorical_crossentropy',metrics=['accuracy'])\n",
    "\n",
    "    model.fit(train_ds, validation_data=val_ds, epochs=epochs)\n",
    "    \n",
    "    loss, accuracy = model.evaluate(test_ds)"
   ]
  },
  {
   "cell_type": "code",
   "execution_count": 20,
   "id": "957eb75a",
   "metadata": {
    "execution": {
     "iopub.execute_input": "2024-03-29T18:58:44.407946Z",
     "iopub.status.busy": "2024-03-29T18:58:44.407429Z",
     "iopub.status.idle": "2024-03-29T18:58:44.419659Z",
     "shell.execute_reply": "2024-03-29T18:58:44.418849Z"
    },
    "papermill": {
     "duration": 0.032441,
     "end_time": "2024-03-29T18:58:44.421489",
     "exception": false,
     "start_time": "2024-03-29T18:58:44.389048",
     "status": "completed"
    },
    "tags": []
   },
   "outputs": [],
   "source": [
    "from tensorflow.keras.applications import VGG16, VGG19, ResNet50\n",
    "from tensorflow.keras.models import Model\n",
    "from tensorflow.keras.layers import Dense, Flatten, Concatenate, Input\n",
    "from tensorflow.keras.optimizers import Adam\n",
    "\n",
    "\n",
    "def show_results_ensemble(epochs, lr):\n",
    "    # Load pre-trained models\n",
    "    vgg16_model = VGG16(weights='imagenet', include_top=False, input_shape=(224, 224, 3))\n",
    "    vgg19_model = VGG19(weights='imagenet', include_top=False, input_shape=(224, 224, 3))\n",
    "    resnet_model = ResNet50(weights='imagenet', include_top=False, input_shape=(224, 224, 3))\n",
    "\n",
    "    # Freeze convolutional layers\n",
    "    for layer in vgg16_model.layers:\n",
    "        layer.trainable = False\n",
    "    for layer in vgg19_model.layers:\n",
    "        layer.trainable = False\n",
    "    for layer in resnet_model.layers:\n",
    "        layer.trainable = False\n",
    "\n",
    "    # Define your custom layers\n",
    "    qlayer = ...  # Define qlayer here\n",
    "\n",
    "    # Define inputs\n",
    "    inputs = Input(shape=(224, 224, 3))\n",
    "\n",
    "    # Get features from each pre-trained model\n",
    "    vgg16_features = vgg16_model(inputs)\n",
    "    vgg19_features = vgg19_model(inputs)\n",
    "    resnet_features = resnet_model(inputs)\n",
    "\n",
    "    # Flatten each feature set\n",
    "    vgg16_features = Flatten()(vgg16_features)\n",
    "    vgg19_features = Flatten()(vgg19_features)\n",
    "    resnet_features = Flatten()(resnet_features)\n",
    "\n",
    "    # Concatenate features\n",
    "    concatenated_features = Concatenate()([vgg16_features, vgg19_features, resnet_features])\n",
    "\n",
    "    # Pass through your custom layers\n",
    "    x = Dense(128, activation='relu')(concatenated_features)\n",
    "    x = Dense(32, activation='relu')(x)\n",
    "    x = Dense(8, activation='relu')(x)\n",
    "    outputs = Dense(5, activation='softmax')(x)\n",
    "\n",
    "    # Create model\n",
    "    model = Model(inputs=inputs, outputs=outputs)\n",
    "\n",
    "    # Compile and train model\n",
    "    model.compile(optimizer=Adam(lr), loss='sparse_categorical_crossentropy', metrics=['accuracy'])\n",
    "    model.summary()\n",
    "\n",
    "    model.fit(train_ds, validation_data=val_ds, epochs=epochs)\n",
    "    \n",
    "    loss, accuracy = model.evaluate(test_ds)"
   ]
  },
  {
   "cell_type": "markdown",
   "id": "a1d6ffb8",
   "metadata": {
    "papermill": {
     "duration": 0.015857,
     "end_time": "2024-03-29T18:58:44.496129",
     "exception": false,
     "start_time": "2024-03-29T18:58:44.480272",
     "status": "completed"
    },
    "tags": []
   },
   "source": [
    "# Ensemble"
   ]
  },
  {
   "cell_type": "code",
   "execution_count": 21,
   "id": "313c73a9",
   "metadata": {
    "execution": {
     "iopub.execute_input": "2024-03-29T18:58:44.529661Z",
     "iopub.status.busy": "2024-03-29T18:58:44.528896Z",
     "iopub.status.idle": "2024-03-29T19:40:15.447733Z",
     "shell.execute_reply": "2024-03-29T19:40:15.446876Z"
    },
    "papermill": {
     "duration": 2490.937502,
     "end_time": "2024-03-29T19:40:15.449632",
     "exception": false,
     "start_time": "2024-03-29T18:58:44.512130",
     "status": "completed"
    },
    "tags": []
   },
   "outputs": [
    {
     "name": "stdout",
     "output_type": "stream",
     "text": [
      "Downloading data from https://storage.googleapis.com/tensorflow/keras-applications/vgg16/vgg16_weights_tf_dim_ordering_tf_kernels_notop.h5\n",
      "58889256/58889256 [==============================] - 0s 0us/step\n",
      "Downloading data from https://storage.googleapis.com/tensorflow/keras-applications/vgg19/vgg19_weights_tf_dim_ordering_tf_kernels_notop.h5\n",
      "80134624/80134624 [==============================] - 0s 0us/step\n",
      "Downloading data from https://storage.googleapis.com/tensorflow/keras-applications/resnet/resnet50_weights_tf_dim_ordering_tf_kernels_notop.h5\n",
      "94765736/94765736 [==============================] - 0s 0us/step\n",
      "Model: \"model\"\n",
      "__________________________________________________________________________________________________\n",
      " Layer (type)                Output Shape                 Param #   Connected to                  \n",
      "==================================================================================================\n",
      " input_4 (InputLayer)        [(None, 224, 224, 3)]        0         []                            \n",
      "                                                                                                  \n",
      " vgg16 (Functional)          (None, 7, 7, 512)            1471468   ['input_4[0][0]']             \n",
      "                                                          8                                       \n",
      "                                                                                                  \n",
      " vgg19 (Functional)          (None, 7, 7, 512)            2002438   ['input_4[0][0]']             \n",
      "                                                          4                                       \n",
      "                                                                                                  \n",
      " resnet50 (Functional)       (None, 7, 7, 2048)           2358771   ['input_4[0][0]']             \n",
      "                                                          2                                       \n",
      "                                                                                                  \n",
      " flatten (Flatten)           (None, 25088)                0         ['vgg16[0][0]']               \n",
      "                                                                                                  \n",
      " flatten_1 (Flatten)         (None, 25088)                0         ['vgg19[0][0]']               \n",
      "                                                                                                  \n",
      " flatten_2 (Flatten)         (None, 100352)               0         ['resnet50[0][0]']            \n",
      "                                                                                                  \n",
      " concatenate (Concatenate)   (None, 150528)               0         ['flatten[0][0]',             \n",
      "                                                                     'flatten_1[0][0]',           \n",
      "                                                                     'flatten_2[0][0]']           \n",
      "                                                                                                  \n",
      " dense (Dense)               (None, 128)                  1926771   ['concatenate[0][0]']         \n",
      "                                                          2                                       \n",
      "                                                                                                  \n",
      " dense_1 (Dense)             (None, 32)                   4128      ['dense[0][0]']               \n",
      "                                                                                                  \n",
      " dense_2 (Dense)             (None, 8)                    264       ['dense_1[0][0]']             \n",
      "                                                                                                  \n",
      " dense_3 (Dense)             (None, 5)                    45        ['dense_2[0][0]']             \n",
      "                                                                                                  \n",
      "==================================================================================================\n",
      "Total params: 77598933 (296.02 MB)\n",
      "Trainable params: 19272149 (73.52 MB)\n",
      "Non-trainable params: 58326784 (222.50 MB)\n",
      "__________________________________________________________________________________________________\n",
      "Epoch 1/30\n"
     ]
    },
    {
     "name": "stderr",
     "output_type": "stream",
     "text": [
      "WARNING: All log messages before absl::InitializeLog() is called are written to STDERR\n",
      "I0000 00:00:1711738746.529394      93 device_compiler.h:186] Compiled cluster using XLA!  This line is logged at most once for the lifetime of the process.\n"
     ]
    },
    {
     "name": "stdout",
     "output_type": "stream",
     "text": [
      "181/181 [==============================] - 107s 497ms/step - loss: 1.6933 - accuracy: 0.3787 - val_loss: 1.5444 - val_accuracy: 0.3971\n",
      "Epoch 2/30\n",
      "181/181 [==============================] - 80s 440ms/step - loss: 1.5198 - accuracy: 0.3956 - val_loss: 1.4992 - val_accuracy: 0.3971\n",
      "Epoch 3/30\n",
      "181/181 [==============================] - 81s 444ms/step - loss: 1.4820 - accuracy: 0.3956 - val_loss: 1.4689 - val_accuracy: 0.3971\n",
      "Epoch 4/30\n",
      "181/181 [==============================] - 81s 445ms/step - loss: 1.4568 - accuracy: 0.3956 - val_loss: 1.4489 - val_accuracy: 0.3971\n",
      "Epoch 5/30\n",
      "181/181 [==============================] - 81s 446ms/step - loss: 1.4400 - accuracy: 0.3956 - val_loss: 1.4355 - val_accuracy: 0.3971\n",
      "Epoch 6/30\n",
      "181/181 [==============================] - 81s 447ms/step - loss: 1.4286 - accuracy: 0.3956 - val_loss: 1.4264 - val_accuracy: 0.3971\n",
      "Epoch 7/30\n",
      "181/181 [==============================] - 81s 447ms/step - loss: 1.4208 - accuracy: 0.3956 - val_loss: 1.4201 - val_accuracy: 0.3971\n",
      "Epoch 8/30\n",
      "181/181 [==============================] - 81s 445ms/step - loss: 1.4152 - accuracy: 0.3956 - val_loss: 1.4157 - val_accuracy: 0.3971\n",
      "Epoch 9/30\n",
      "181/181 [==============================] - 81s 446ms/step - loss: 1.4112 - accuracy: 0.3956 - val_loss: 1.4125 - val_accuracy: 0.3971\n",
      "Epoch 10/30\n",
      "181/181 [==============================] - 81s 447ms/step - loss: 1.4082 - accuracy: 0.3956 - val_loss: 1.4101 - val_accuracy: 0.3971\n",
      "Epoch 11/30\n",
      "181/181 [==============================] - 81s 447ms/step - loss: 1.4059 - accuracy: 0.3956 - val_loss: 1.4083 - val_accuracy: 0.3971\n",
      "Epoch 12/30\n",
      "181/181 [==============================] - 81s 448ms/step - loss: 1.4042 - accuracy: 0.3956 - val_loss: 1.4070 - val_accuracy: 0.3971\n",
      "Epoch 13/30\n",
      "181/181 [==============================] - 81s 446ms/step - loss: 1.4029 - accuracy: 0.3956 - val_loss: 1.4060 - val_accuracy: 0.3971\n",
      "Epoch 14/30\n",
      "181/181 [==============================] - 81s 445ms/step - loss: 1.4018 - accuracy: 0.3956 - val_loss: 1.4053 - val_accuracy: 0.3971\n",
      "Epoch 15/30\n",
      "181/181 [==============================] - 81s 445ms/step - loss: 1.4010 - accuracy: 0.3956 - val_loss: 1.4047 - val_accuracy: 0.3971\n",
      "Epoch 16/30\n",
      "181/181 [==============================] - 81s 447ms/step - loss: 1.4005 - accuracy: 0.3956 - val_loss: 1.4044 - val_accuracy: 0.3971\n",
      "Epoch 17/30\n",
      "181/181 [==============================] - 81s 448ms/step - loss: 1.4000 - accuracy: 0.3956 - val_loss: 1.4041 - val_accuracy: 0.3971\n",
      "Epoch 18/30\n",
      "181/181 [==============================] - 81s 448ms/step - loss: 1.3997 - accuracy: 0.3956 - val_loss: 1.4039 - val_accuracy: 0.3971\n",
      "Epoch 19/30\n",
      "181/181 [==============================] - 81s 446ms/step - loss: 1.3994 - accuracy: 0.3956 - val_loss: 1.4038 - val_accuracy: 0.3971\n",
      "Epoch 20/30\n",
      "181/181 [==============================] - 81s 445ms/step - loss: 1.3993 - accuracy: 0.3956 - val_loss: 1.4037 - val_accuracy: 0.3971\n",
      "Epoch 21/30\n",
      "181/181 [==============================] - 81s 447ms/step - loss: 1.3991 - accuracy: 0.3956 - val_loss: 1.4036 - val_accuracy: 0.3971\n",
      "Epoch 22/30\n",
      "181/181 [==============================] - 81s 447ms/step - loss: 1.3990 - accuracy: 0.3956 - val_loss: 1.4036 - val_accuracy: 0.3971\n",
      "Epoch 23/30\n",
      "181/181 [==============================] - 81s 445ms/step - loss: 1.3990 - accuracy: 0.3956 - val_loss: 1.4036 - val_accuracy: 0.3971\n",
      "Epoch 24/30\n",
      "181/181 [==============================] - 81s 446ms/step - loss: 1.3989 - accuracy: 0.3956 - val_loss: 1.4036 - val_accuracy: 0.3971\n",
      "Epoch 25/30\n",
      "181/181 [==============================] - 81s 447ms/step - loss: 1.3989 - accuracy: 0.3956 - val_loss: 1.4036 - val_accuracy: 0.3971\n",
      "Epoch 26/30\n",
      "181/181 [==============================] - 81s 447ms/step - loss: 1.3988 - accuracy: 0.3956 - val_loss: 1.4036 - val_accuracy: 0.3971\n",
      "Epoch 27/30\n",
      "181/181 [==============================] - 81s 447ms/step - loss: 1.3988 - accuracy: 0.3956 - val_loss: 1.4036 - val_accuracy: 0.3971\n",
      "Epoch 28/30\n",
      "181/181 [==============================] - 81s 445ms/step - loss: 1.3988 - accuracy: 0.3956 - val_loss: 1.4036 - val_accuracy: 0.3971\n",
      "Epoch 29/30\n",
      "181/181 [==============================] - 81s 446ms/step - loss: 1.3988 - accuracy: 0.3956 - val_loss: 1.4036 - val_accuracy: 0.3971\n",
      "Epoch 30/30\n",
      "181/181 [==============================] - 81s 447ms/step - loss: 1.3988 - accuracy: 0.3956 - val_loss: 1.4036 - val_accuracy: 0.3971\n",
      "52/52 [==============================] - 30s 568ms/step - loss: 1.4062 - accuracy: 0.3859\n"
     ]
    }
   ],
   "source": [
    "show_results_ensemble(30, 0.001)"
   ]
  },
  {
   "cell_type": "markdown",
   "id": "65eb81f8",
   "metadata": {
    "papermill": {
     "duration": 0.466216,
     "end_time": "2024-03-29T19:40:16.387346",
     "exception": false,
     "start_time": "2024-03-29T19:40:15.921130",
     "status": "completed"
    },
    "tags": []
   },
   "source": [
    "### ResNet"
   ]
  },
  {
   "cell_type": "code",
   "execution_count": 22,
   "id": "dc5587fb",
   "metadata": {
    "execution": {
     "iopub.execute_input": "2024-03-29T19:40:17.357607Z",
     "iopub.status.busy": "2024-03-29T19:40:17.356948Z",
     "iopub.status.idle": "2024-03-29T20:32:25.026557Z",
     "shell.execute_reply": "2024-03-29T20:32:25.025498Z"
    },
    "papermill": {
     "duration": 3128.182912,
     "end_time": "2024-03-29T20:32:25.028778",
     "exception": false,
     "start_time": "2024-03-29T19:40:16.845866",
     "status": "completed"
    },
    "tags": []
   },
   "outputs": [
    {
     "name": "stdout",
     "output_type": "stream",
     "text": [
      "Model: \"sequential\"\n",
      "_________________________________________________________________\n",
      " Layer (type)                Output Shape              Param #   \n",
      "=================================================================\n",
      " resnet50 (Functional)       (None, 2048)              23587712  \n",
      "                                                                 \n",
      " flatten_3 (Flatten)         (None, 2048)              0         \n",
      "                                                                 \n",
      " dense_4 (Dense)             (None, 128)               262272    \n",
      "                                                                 \n",
      " dense_5 (Dense)             (None, 32)                4128      \n",
      "                                                                 \n",
      " dense_6 (Dense)             (None, 8)                 264       \n",
      "                                                                 \n",
      " dense_7 (Dense)             (None, 4)                 36        \n",
      "                                                                 \n",
      " keras_layer (KerasLayer)    (None, 4)                 12        \n",
      "                                                                 \n",
      " dense_8 (Dense)             (None, 5)                 25        \n",
      "                                                                 \n",
      "=================================================================\n",
      "Total params: 23854449 (91.00 MB)\n",
      "Trainable params: 266737 (1.02 MB)\n",
      "Non-trainable params: 23587712 (89.98 MB)\n",
      "_________________________________________________________________\n",
      "Epoch 1/30\n",
      "181/181 [==============================] - 110s 576ms/step - loss: 1.4055 - accuracy: 0.4169 - val_loss: 1.3491 - val_accuracy: 0.4334\n",
      "Epoch 2/30\n",
      "181/181 [==============================] - 102s 563ms/step - loss: 1.3073 - accuracy: 0.4720 - val_loss: 1.2900 - val_accuracy: 0.4504\n",
      "Epoch 3/30\n",
      "181/181 [==============================] - 102s 562ms/step - loss: 1.2301 - accuracy: 0.4983 - val_loss: 1.2088 - val_accuracy: 0.4927\n",
      "Epoch 4/30\n",
      "181/181 [==============================] - 102s 561ms/step - loss: 1.1698 - accuracy: 0.5218 - val_loss: 1.1645 - val_accuracy: 0.4903\n",
      "Epoch 5/30\n",
      "181/181 [==============================] - 102s 560ms/step - loss: 1.1487 - accuracy: 0.5268 - val_loss: 1.1675 - val_accuracy: 0.5000\n",
      "Epoch 6/30\n",
      "181/181 [==============================] - 102s 562ms/step - loss: 1.1081 - accuracy: 0.5478 - val_loss: 1.2010 - val_accuracy: 0.4758\n",
      "Epoch 7/30\n",
      "181/181 [==============================] - 101s 559ms/step - loss: 1.0860 - accuracy: 0.5550 - val_loss: 1.1188 - val_accuracy: 0.5133\n",
      "Epoch 8/30\n",
      "181/181 [==============================] - 102s 561ms/step - loss: 1.0691 - accuracy: 0.5642 - val_loss: 1.1109 - val_accuracy: 0.5242\n",
      "Epoch 9/30\n",
      "181/181 [==============================] - 102s 561ms/step - loss: 1.0457 - accuracy: 0.5711 - val_loss: 1.1290 - val_accuracy: 0.5315\n",
      "Epoch 10/30\n",
      "181/181 [==============================] - 101s 557ms/step - loss: 1.0228 - accuracy: 0.5855 - val_loss: 1.1006 - val_accuracy: 0.5363\n",
      "Epoch 11/30\n",
      "181/181 [==============================] - 101s 558ms/step - loss: 1.0068 - accuracy: 0.5907 - val_loss: 1.1041 - val_accuracy: 0.5387\n",
      "Epoch 12/30\n",
      "181/181 [==============================] - 101s 557ms/step - loss: 1.0079 - accuracy: 0.5860 - val_loss: 1.0939 - val_accuracy: 0.5412\n",
      "Epoch 13/30\n",
      "181/181 [==============================] - 102s 563ms/step - loss: 0.9889 - accuracy: 0.6014 - val_loss: 1.1747 - val_accuracy: 0.5036\n",
      "Epoch 14/30\n",
      "181/181 [==============================] - 102s 562ms/step - loss: 0.9674 - accuracy: 0.6078 - val_loss: 1.1193 - val_accuracy: 0.5303\n",
      "Epoch 15/30\n",
      "181/181 [==============================] - 102s 565ms/step - loss: 0.9475 - accuracy: 0.6168 - val_loss: 1.1542 - val_accuracy: 0.5061\n",
      "Epoch 16/30\n",
      "181/181 [==============================] - 102s 563ms/step - loss: 0.9349 - accuracy: 0.6250 - val_loss: 1.1901 - val_accuracy: 0.5169\n",
      "Epoch 17/30\n",
      "181/181 [==============================] - 101s 557ms/step - loss: 0.9438 - accuracy: 0.6213 - val_loss: 1.1273 - val_accuracy: 0.5327\n",
      "Epoch 18/30\n",
      "181/181 [==============================] - 102s 562ms/step - loss: 0.9128 - accuracy: 0.6355 - val_loss: 1.1408 - val_accuracy: 0.5278\n",
      "Epoch 19/30\n",
      "181/181 [==============================] - 101s 559ms/step - loss: 0.9128 - accuracy: 0.6296 - val_loss: 1.1532 - val_accuracy: 0.5303\n",
      "Epoch 20/30\n",
      "181/181 [==============================] - 102s 562ms/step - loss: 0.8795 - accuracy: 0.6492 - val_loss: 1.1527 - val_accuracy: 0.5230\n",
      "Epoch 21/30\n",
      "181/181 [==============================] - 102s 560ms/step - loss: 0.8802 - accuracy: 0.6471 - val_loss: 1.1738 - val_accuracy: 0.5121\n",
      "Epoch 22/30\n",
      "181/181 [==============================] - 104s 570ms/step - loss: 0.8729 - accuracy: 0.6483 - val_loss: 1.1637 - val_accuracy: 0.5085\n",
      "Epoch 23/30\n",
      "181/181 [==============================] - 103s 571ms/step - loss: 0.8450 - accuracy: 0.6661 - val_loss: 1.1986 - val_accuracy: 0.5339\n",
      "Epoch 24/30\n",
      "181/181 [==============================] - 103s 570ms/step - loss: 0.8431 - accuracy: 0.6648 - val_loss: 1.2203 - val_accuracy: 0.5206\n",
      "Epoch 25/30\n",
      "181/181 [==============================] - 102s 562ms/step - loss: 0.8141 - accuracy: 0.6751 - val_loss: 1.2065 - val_accuracy: 0.5278\n",
      "Epoch 26/30\n",
      "181/181 [==============================] - 102s 565ms/step - loss: 0.8051 - accuracy: 0.6795 - val_loss: 1.2273 - val_accuracy: 0.5254\n",
      "Epoch 27/30\n",
      "181/181 [==============================] - 103s 570ms/step - loss: 0.8176 - accuracy: 0.6736 - val_loss: 1.2340 - val_accuracy: 0.5024\n",
      "Epoch 28/30\n",
      "181/181 [==============================] - 103s 570ms/step - loss: 0.7862 - accuracy: 0.6885 - val_loss: 1.2615 - val_accuracy: 0.5242\n",
      "Epoch 29/30\n",
      "181/181 [==============================] - 103s 570ms/step - loss: 0.7569 - accuracy: 0.6976 - val_loss: 1.2534 - val_accuracy: 0.5109\n",
      "Epoch 30/30\n",
      "181/181 [==============================] - 104s 569ms/step - loss: 0.7579 - accuracy: 0.7020 - val_loss: 1.2653 - val_accuracy: 0.5218\n",
      "52/52 [==============================] - 12s 220ms/step - loss: 1.2507 - accuracy: 0.5199\n"
     ]
    }
   ],
   "source": [
    "resnet_model = pretrained_model= tf.keras.applications.ResNet50(include_top=False,\n",
    "                   input_shape=INPUT,\n",
    "                   pooling='avg',classes=5,\n",
    "                   weights='imagenet')\n",
    "\n",
    "show_results(resnet_model, 30, 0.001)"
   ]
  },
  {
   "cell_type": "markdown",
   "id": "fb34d61f",
   "metadata": {
    "papermill": {
     "duration": 1.00428,
     "end_time": "2024-03-29T20:32:27.035805",
     "exception": false,
     "start_time": "2024-03-29T20:32:26.031525",
     "status": "completed"
    },
    "tags": []
   },
   "source": [
    "### VGG19"
   ]
  },
  {
   "cell_type": "code",
   "execution_count": 23,
   "id": "b96c496c",
   "metadata": {
    "execution": {
     "iopub.execute_input": "2024-03-29T20:32:28.977467Z",
     "iopub.status.busy": "2024-03-29T20:32:28.976538Z",
     "iopub.status.idle": "2024-03-29T21:58:01.859422Z",
     "shell.execute_reply": "2024-03-29T21:58:01.858453Z"
    },
    "papermill": {
     "duration": 5135.250721,
     "end_time": "2024-03-29T21:58:03.268585",
     "exception": false,
     "start_time": "2024-03-29T20:32:28.017864",
     "status": "completed"
    },
    "tags": []
   },
   "outputs": [
    {
     "name": "stdout",
     "output_type": "stream",
     "text": [
      "Model: \"sequential_1\"\n",
      "_________________________________________________________________\n",
      " Layer (type)                Output Shape              Param #   \n",
      "=================================================================\n",
      " vgg19 (Functional)          (None, 512)               20024384  \n",
      "                                                                 \n",
      " flatten_4 (Flatten)         (None, 512)               0         \n",
      "                                                                 \n",
      " dense_9 (Dense)             (None, 128)               65664     \n",
      "                                                                 \n",
      " dense_10 (Dense)            (None, 32)                4128      \n",
      "                                                                 \n",
      " dense_11 (Dense)            (None, 8)                 264       \n",
      "                                                                 \n",
      " dense_12 (Dense)            (None, 4)                 36        \n",
      "                                                                 \n",
      " keras_layer (KerasLayer)    (None, 4)                 12        \n",
      "                                                                 \n",
      " dense_13 (Dense)            (None, 5)                 25        \n",
      "                                                                 \n",
      "=================================================================\n",
      "Total params: 20094513 (76.65 MB)\n",
      "Trainable params: 70129 (273.94 KB)\n",
      "Non-trainable params: 20024384 (76.39 MB)\n",
      "_________________________________________________________________\n",
      "Epoch 1/30\n",
      "181/181 [==============================] - 217s 1s/step - loss: 1.4615 - accuracy: 0.3641 - val_loss: 1.3577 - val_accuracy: 0.4153\n",
      "Epoch 2/30\n",
      "181/181 [==============================] - 169s 931ms/step - loss: 1.3343 - accuracy: 0.4270 - val_loss: 1.3325 - val_accuracy: 0.4322\n",
      "Epoch 3/30\n",
      "181/181 [==============================] - 169s 932ms/step - loss: 1.2761 - accuracy: 0.4607 - val_loss: 1.2552 - val_accuracy: 0.4479\n",
      "Epoch 4/30\n",
      "181/181 [==============================] - 169s 932ms/step - loss: 1.2351 - accuracy: 0.4777 - val_loss: 1.2205 - val_accuracy: 0.4709\n",
      "Epoch 5/30\n",
      "181/181 [==============================] - 169s 934ms/step - loss: 1.2043 - accuracy: 0.4915 - val_loss: 1.2128 - val_accuracy: 0.4516\n",
      "Epoch 6/30\n",
      "181/181 [==============================] - 169s 932ms/step - loss: 1.1780 - accuracy: 0.5010 - val_loss: 1.1968 - val_accuracy: 0.4734\n",
      "Epoch 7/30\n",
      "181/181 [==============================] - 169s 930ms/step - loss: 1.1527 - accuracy: 0.5133 - val_loss: 1.1820 - val_accuracy: 0.4661\n",
      "Epoch 8/30\n",
      "181/181 [==============================] - 168s 929ms/step - loss: 1.1440 - accuracy: 0.5204 - val_loss: 1.1856 - val_accuracy: 0.4782\n",
      "Epoch 9/30\n",
      "181/181 [==============================] - 168s 930ms/step - loss: 1.1286 - accuracy: 0.5216 - val_loss: 1.1722 - val_accuracy: 0.4952\n",
      "Epoch 10/30\n",
      "181/181 [==============================] - 168s 928ms/step - loss: 1.1119 - accuracy: 0.5337 - val_loss: 1.1556 - val_accuracy: 0.4927\n",
      "Epoch 11/30\n",
      "181/181 [==============================] - 169s 933ms/step - loss: 1.1103 - accuracy: 0.5275 - val_loss: 1.1592 - val_accuracy: 0.4952\n",
      "Epoch 12/30\n",
      "181/181 [==============================] - 169s 934ms/step - loss: 1.0803 - accuracy: 0.5448 - val_loss: 1.2009 - val_accuracy: 0.4746\n",
      "Epoch 13/30\n",
      "181/181 [==============================] - 169s 931ms/step - loss: 1.0697 - accuracy: 0.5504 - val_loss: 1.1611 - val_accuracy: 0.4867\n",
      "Epoch 14/30\n",
      "181/181 [==============================] - 169s 929ms/step - loss: 1.0730 - accuracy: 0.5445 - val_loss: 1.1821 - val_accuracy: 0.4952\n",
      "Epoch 15/30\n",
      "181/181 [==============================] - 168s 928ms/step - loss: 1.0644 - accuracy: 0.5537 - val_loss: 1.1717 - val_accuracy: 0.4976\n",
      "Epoch 16/30\n",
      "181/181 [==============================] - 168s 926ms/step - loss: 1.0347 - accuracy: 0.5680 - val_loss: 1.1728 - val_accuracy: 0.4903\n",
      "Epoch 17/30\n",
      "181/181 [==============================] - 168s 929ms/step - loss: 1.0153 - accuracy: 0.5801 - val_loss: 1.1812 - val_accuracy: 0.4661\n",
      "Epoch 18/30\n",
      "181/181 [==============================] - 168s 928ms/step - loss: 1.0114 - accuracy: 0.5794 - val_loss: 1.2182 - val_accuracy: 0.4831\n",
      "Epoch 19/30\n",
      "181/181 [==============================] - 168s 930ms/step - loss: 1.0056 - accuracy: 0.5819 - val_loss: 1.1854 - val_accuracy: 0.4831\n",
      "Epoch 20/30\n",
      "181/181 [==============================] - 169s 932ms/step - loss: 1.0041 - accuracy: 0.5781 - val_loss: 1.2043 - val_accuracy: 0.4952\n",
      "Epoch 21/30\n",
      "181/181 [==============================] - 168s 929ms/step - loss: 0.9658 - accuracy: 0.6023 - val_loss: 1.1921 - val_accuracy: 0.4964\n",
      "Epoch 22/30\n",
      "181/181 [==============================] - 169s 930ms/step - loss: 0.9589 - accuracy: 0.6040 - val_loss: 1.2130 - val_accuracy: 0.4939\n",
      "Epoch 23/30\n",
      "181/181 [==============================] - 169s 931ms/step - loss: 0.9436 - accuracy: 0.6109 - val_loss: 1.2513 - val_accuracy: 0.5012\n",
      "Epoch 24/30\n",
      "181/181 [==============================] - 169s 931ms/step - loss: 0.9396 - accuracy: 0.6097 - val_loss: 1.2086 - val_accuracy: 0.5097\n",
      "Epoch 25/30\n",
      "181/181 [==============================] - 169s 930ms/step - loss: 0.9283 - accuracy: 0.6170 - val_loss: 1.2260 - val_accuracy: 0.4831\n",
      "Epoch 26/30\n",
      "181/181 [==============================] - 169s 932ms/step - loss: 0.9030 - accuracy: 0.6308 - val_loss: 1.2580 - val_accuracy: 0.4891\n",
      "Epoch 27/30\n",
      "181/181 [==============================] - 169s 931ms/step - loss: 0.8888 - accuracy: 0.6397 - val_loss: 1.2681 - val_accuracy: 0.4891\n",
      "Epoch 28/30\n",
      "181/181 [==============================] - 169s 932ms/step - loss: 0.8866 - accuracy: 0.6343 - val_loss: 1.2840 - val_accuracy: 0.4794\n",
      "Epoch 29/30\n",
      "181/181 [==============================] - 169s 932ms/step - loss: 0.8763 - accuracy: 0.6385 - val_loss: 1.2720 - val_accuracy: 0.4915\n",
      "Epoch 30/30\n",
      "181/181 [==============================] - 169s 930ms/step - loss: 0.8652 - accuracy: 0.6462 - val_loss: 1.3588 - val_accuracy: 0.4625\n",
      "52/52 [==============================] - 24s 464ms/step - loss: 1.3297 - accuracy: 0.4565\n"
     ]
    }
   ],
   "source": [
    "vgg19_model = tf.keras.applications.vgg19.VGG19(include_top=False,\n",
    "                   input_shape=INPUT,\n",
    "                   pooling='avg',classes=5,\n",
    "                   weights='imagenet')\n",
    "\n",
    "show_results(vgg19_model, 30, 0.001)"
   ]
  },
  {
   "cell_type": "markdown",
   "id": "3baadd6d",
   "metadata": {
    "papermill": {
     "duration": 1.354279,
     "end_time": "2024-03-29T21:58:06.047829",
     "exception": false,
     "start_time": "2024-03-29T21:58:04.693550",
     "status": "completed"
    },
    "tags": []
   },
   "source": [
    "### Mobilenet"
   ]
  },
  {
   "cell_type": "code",
   "execution_count": 24,
   "id": "cde03301",
   "metadata": {
    "execution": {
     "iopub.execute_input": "2024-03-29T21:58:08.835015Z",
     "iopub.status.busy": "2024-03-29T21:58:08.834645Z",
     "iopub.status.idle": "2024-03-29T23:23:16.195747Z",
     "shell.execute_reply": "2024-03-29T23:23:16.194735Z"
    },
    "papermill": {
     "duration": 5108.777074,
     "end_time": "2024-03-29T23:23:16.197917",
     "exception": false,
     "start_time": "2024-03-29T21:58:07.420843",
     "status": "completed"
    },
    "tags": []
   },
   "outputs": [
    {
     "name": "stdout",
     "output_type": "stream",
     "text": [
      "Downloading data from https://storage.googleapis.com/tensorflow/keras-applications/mobilenet/mobilenet_1_0_224_tf_no_top.h5\n",
      "17225924/17225924 [==============================] - 0s 0us/step\n",
      "Model: \"sequential_2\"\n",
      "_________________________________________________________________\n",
      " Layer (type)                Output Shape              Param #   \n",
      "=================================================================\n",
      " vgg19 (Functional)          (None, 512)               20024384  \n",
      "                                                                 \n",
      " flatten_5 (Flatten)         (None, 512)               0         \n",
      "                                                                 \n",
      " dense_14 (Dense)            (None, 128)               65664     \n",
      "                                                                 \n",
      " dense_15 (Dense)            (None, 32)                4128      \n",
      "                                                                 \n",
      " dense_16 (Dense)            (None, 8)                 264       \n",
      "                                                                 \n",
      " dense_17 (Dense)            (None, 4)                 36        \n",
      "                                                                 \n",
      " keras_layer (KerasLayer)    (None, 4)                 12        \n",
      "                                                                 \n",
      " dense_18 (Dense)            (None, 5)                 25        \n",
      "                                                                 \n",
      "=================================================================\n",
      "Total params: 20094513 (76.65 MB)\n",
      "Trainable params: 70129 (273.94 KB)\n",
      "Non-trainable params: 20024384 (76.39 MB)\n",
      "_________________________________________________________________\n",
      "Epoch 1/30\n",
      "181/181 [==============================] - 169s 929ms/step - loss: 1.4503 - accuracy: 0.3844 - val_loss: 1.4270 - val_accuracy: 0.3971\n",
      "Epoch 2/30\n",
      "181/181 [==============================] - 169s 935ms/step - loss: 1.4159 - accuracy: 0.3956 - val_loss: 1.4128 - val_accuracy: 0.3971\n",
      "Epoch 3/30\n",
      "181/181 [==============================] - 170s 936ms/step - loss: 1.4068 - accuracy: 0.3956 - val_loss: 1.4099 - val_accuracy: 0.3971\n",
      "Epoch 4/30\n",
      "181/181 [==============================] - 169s 933ms/step - loss: 1.4021 - accuracy: 0.3956 - val_loss: 1.4047 - val_accuracy: 0.3971\n",
      "Epoch 5/30\n",
      "181/181 [==============================] - 169s 931ms/step - loss: 1.4015 - accuracy: 0.3956 - val_loss: 1.4048 - val_accuracy: 0.3971\n",
      "Epoch 6/30\n",
      "181/181 [==============================] - 168s 930ms/step - loss: 1.4000 - accuracy: 0.3956 - val_loss: 1.4024 - val_accuracy: 0.3971\n",
      "Epoch 7/30\n",
      "181/181 [==============================] - 168s 929ms/step - loss: 1.3997 - accuracy: 0.3956 - val_loss: 1.4026 - val_accuracy: 0.3971\n",
      "Epoch 8/30\n",
      "181/181 [==============================] - 168s 930ms/step - loss: 1.3997 - accuracy: 0.3956 - val_loss: 1.4044 - val_accuracy: 0.3971\n",
      "Epoch 9/30\n",
      "181/181 [==============================] - 168s 929ms/step - loss: 1.3994 - accuracy: 0.3956 - val_loss: 1.4044 - val_accuracy: 0.3971\n",
      "Epoch 10/30\n",
      "181/181 [==============================] - 169s 931ms/step - loss: 1.3989 - accuracy: 0.3956 - val_loss: 1.4029 - val_accuracy: 0.3971\n",
      "Epoch 11/30\n",
      "181/181 [==============================] - 168s 930ms/step - loss: 1.3994 - accuracy: 0.3956 - val_loss: 1.4035 - val_accuracy: 0.3971\n",
      "Epoch 12/30\n",
      "181/181 [==============================] - 169s 931ms/step - loss: 1.3993 - accuracy: 0.3956 - val_loss: 1.4040 - val_accuracy: 0.3971\n",
      "Epoch 13/30\n",
      "181/181 [==============================] - 168s 927ms/step - loss: 1.3987 - accuracy: 0.3956 - val_loss: 1.4041 - val_accuracy: 0.3971\n",
      "Epoch 14/30\n",
      "181/181 [==============================] - 168s 929ms/step - loss: 1.3990 - accuracy: 0.3956 - val_loss: 1.4037 - val_accuracy: 0.3971\n",
      "Epoch 15/30\n",
      "181/181 [==============================] - 166s 916ms/step - loss: 1.3992 - accuracy: 0.3956 - val_loss: 1.4035 - val_accuracy: 0.3971\n",
      "Epoch 16/30\n",
      "181/181 [==============================] - 168s 926ms/step - loss: 1.3991 - accuracy: 0.3956 - val_loss: 1.4040 - val_accuracy: 0.3971\n",
      "Epoch 17/30\n",
      "181/181 [==============================] - 168s 927ms/step - loss: 1.3991 - accuracy: 0.3956 - val_loss: 1.4035 - val_accuracy: 0.3971\n",
      "Epoch 18/30\n",
      "181/181 [==============================] - 168s 930ms/step - loss: 1.3988 - accuracy: 0.3956 - val_loss: 1.4040 - val_accuracy: 0.3971\n",
      "Epoch 19/30\n",
      "181/181 [==============================] - 168s 929ms/step - loss: 1.3991 - accuracy: 0.3956 - val_loss: 1.4036 - val_accuracy: 0.3971\n",
      "Epoch 20/30\n",
      "181/181 [==============================] - 169s 930ms/step - loss: 1.3991 - accuracy: 0.3956 - val_loss: 1.4043 - val_accuracy: 0.3971\n",
      "Epoch 21/30\n",
      "181/181 [==============================] - 169s 931ms/step - loss: 1.3987 - accuracy: 0.3956 - val_loss: 1.4044 - val_accuracy: 0.3971\n",
      "Epoch 22/30\n",
      "181/181 [==============================] - 168s 930ms/step - loss: 1.3993 - accuracy: 0.3956 - val_loss: 1.4033 - val_accuracy: 0.3971\n",
      "Epoch 23/30\n",
      "181/181 [==============================] - 169s 933ms/step - loss: 1.3989 - accuracy: 0.3956 - val_loss: 1.4042 - val_accuracy: 0.3971\n",
      "Epoch 24/30\n",
      "181/181 [==============================] - 169s 935ms/step - loss: 1.3992 - accuracy: 0.3956 - val_loss: 1.4036 - val_accuracy: 0.3971\n",
      "Epoch 25/30\n",
      "181/181 [==============================] - 169s 933ms/step - loss: 1.3989 - accuracy: 0.3956 - val_loss: 1.4033 - val_accuracy: 0.3971\n",
      "Epoch 26/30\n",
      "181/181 [==============================] - 169s 930ms/step - loss: 1.3988 - accuracy: 0.3956 - val_loss: 1.4032 - val_accuracy: 0.3971\n",
      "Epoch 27/30\n",
      "181/181 [==============================] - 168s 930ms/step - loss: 1.3994 - accuracy: 0.3956 - val_loss: 1.4034 - val_accuracy: 0.3971\n",
      "Epoch 28/30\n",
      "181/181 [==============================] - 168s 929ms/step - loss: 1.3989 - accuracy: 0.3956 - val_loss: 1.4032 - val_accuracy: 0.3971\n",
      "Epoch 29/30\n",
      "181/181 [==============================] - 168s 928ms/step - loss: 1.3991 - accuracy: 0.3956 - val_loss: 1.4038 - val_accuracy: 0.3971\n",
      "Epoch 30/30\n",
      "181/181 [==============================] - 169s 930ms/step - loss: 1.3990 - accuracy: 0.3956 - val_loss: 1.4043 - val_accuracy: 0.3971\n",
      "52/52 [==============================] - 16s 303ms/step - loss: 1.4068 - accuracy: 0.3859\n"
     ]
    }
   ],
   "source": [
    "mobilenet_model = tf.keras.applications.mobilenet.MobileNet(include_top=False,\n",
    "                   input_shape=INPUT,\n",
    "                   pooling='avg',classes=5,\n",
    "                   weights='imagenet')\n",
    "\n",
    "show_results(vgg19_model, 30, 0.001)"
   ]
  },
  {
   "cell_type": "markdown",
   "id": "1c3329ab",
   "metadata": {
    "papermill": {
     "duration": 1.884317,
     "end_time": "2024-03-29T23:23:19.897342",
     "exception": false,
     "start_time": "2024-03-29T23:23:18.013025",
     "status": "completed"
    },
    "tags": []
   },
   "source": [
    "### InceptionNet"
   ]
  },
  {
   "cell_type": "code",
   "execution_count": 25,
   "id": "5fdc3d25",
   "metadata": {
    "execution": {
     "iopub.execute_input": "2024-03-29T23:23:23.676487Z",
     "iopub.status.busy": "2024-03-29T23:23:23.676115Z",
     "iopub.status.idle": "2024-03-30T00:21:23.870404Z",
     "shell.execute_reply": "2024-03-30T00:21:23.869634Z"
    },
    "papermill": {
     "duration": 3481.997124,
     "end_time": "2024-03-30T00:21:23.872502",
     "exception": false,
     "start_time": "2024-03-29T23:23:21.875378",
     "status": "completed"
    },
    "tags": []
   },
   "outputs": [
    {
     "name": "stdout",
     "output_type": "stream",
     "text": [
      "Downloading data from https://storage.googleapis.com/tensorflow/keras-applications/inception_v3/inception_v3_weights_tf_dim_ordering_tf_kernels_notop.h5\n",
      "87910968/87910968 [==============================] - 1s 0us/step\n",
      "Model: \"sequential_3\"\n",
      "_________________________________________________________________\n",
      " Layer (type)                Output Shape              Param #   \n",
      "=================================================================\n",
      " inception_v3 (Functional)   (None, 2048)              21802784  \n",
      "                                                                 \n",
      " flatten_6 (Flatten)         (None, 2048)              0         \n",
      "                                                                 \n",
      " dense_19 (Dense)            (None, 128)               262272    \n",
      "                                                                 \n",
      " dense_20 (Dense)            (None, 32)                4128      \n",
      "                                                                 \n",
      " dense_21 (Dense)            (None, 8)                 264       \n",
      "                                                                 \n",
      " dense_22 (Dense)            (None, 4)                 36        \n",
      "                                                                 \n",
      " keras_layer (KerasLayer)    (None, 4)                 12        \n",
      "                                                                 \n",
      " dense_23 (Dense)            (None, 5)                 25        \n",
      "                                                                 \n",
      "=================================================================\n",
      "Total params: 22069521 (84.19 MB)\n",
      "Trainable params: 266737 (1.02 MB)\n",
      "Non-trainable params: 21802784 (83.17 MB)\n",
      "_________________________________________________________________\n",
      "Epoch 1/30\n",
      "181/181 [==============================] - 125s 652ms/step - loss: 1.6008 - accuracy: 0.2151 - val_loss: 1.5169 - val_accuracy: 0.2639\n",
      "Epoch 2/30\n",
      "181/181 [==============================] - 112s 617ms/step - loss: 1.4681 - accuracy: 0.3460 - val_loss: 1.4406 - val_accuracy: 0.3644\n",
      "Epoch 3/30\n",
      "181/181 [==============================] - 112s 617ms/step - loss: 1.4266 - accuracy: 0.3842 - val_loss: 1.4168 - val_accuracy: 0.3971\n",
      "Epoch 4/30\n",
      "181/181 [==============================] - 113s 622ms/step - loss: 1.4110 - accuracy: 0.3956 - val_loss: 1.4073 - val_accuracy: 0.3971\n",
      "Epoch 5/30\n",
      "181/181 [==============================] - 112s 618ms/step - loss: 1.4038 - accuracy: 0.3956 - val_loss: 1.4053 - val_accuracy: 0.3971\n",
      "Epoch 6/30\n",
      "181/181 [==============================] - 112s 617ms/step - loss: 1.4015 - accuracy: 0.3956 - val_loss: 1.4028 - val_accuracy: 0.3971\n",
      "Epoch 7/30\n",
      "181/181 [==============================] - 112s 617ms/step - loss: 1.4006 - accuracy: 0.3956 - val_loss: 1.4042 - val_accuracy: 0.3971\n",
      "Epoch 8/30\n",
      "181/181 [==============================] - 112s 617ms/step - loss: 1.3997 - accuracy: 0.3956 - val_loss: 1.4037 - val_accuracy: 0.3971\n",
      "Epoch 9/30\n",
      "181/181 [==============================] - 112s 617ms/step - loss: 1.3991 - accuracy: 0.3956 - val_loss: 1.4037 - val_accuracy: 0.3971\n",
      "Epoch 10/30\n",
      "181/181 [==============================] - 112s 615ms/step - loss: 1.3992 - accuracy: 0.3956 - val_loss: 1.4032 - val_accuracy: 0.3971\n",
      "Epoch 11/30\n",
      "181/181 [==============================] - 112s 614ms/step - loss: 1.3988 - accuracy: 0.3956 - val_loss: 1.4033 - val_accuracy: 0.3971\n",
      "Epoch 12/30\n",
      "181/181 [==============================] - 111s 615ms/step - loss: 1.3990 - accuracy: 0.3956 - val_loss: 1.4036 - val_accuracy: 0.3971\n",
      "Epoch 13/30\n",
      "181/181 [==============================] - 111s 610ms/step - loss: 1.3989 - accuracy: 0.3956 - val_loss: 1.4035 - val_accuracy: 0.3971\n",
      "Epoch 14/30\n",
      "181/181 [==============================] - 111s 613ms/step - loss: 1.3988 - accuracy: 0.3956 - val_loss: 1.4038 - val_accuracy: 0.3971\n",
      "Epoch 15/30\n",
      "181/181 [==============================] - 111s 613ms/step - loss: 1.3988 - accuracy: 0.3956 - val_loss: 1.4033 - val_accuracy: 0.3971\n",
      "Epoch 16/30\n",
      "181/181 [==============================] - 111s 612ms/step - loss: 1.3988 - accuracy: 0.3956 - val_loss: 1.4035 - val_accuracy: 0.3971\n",
      "Epoch 17/30\n",
      "181/181 [==============================] - 111s 614ms/step - loss: 1.3991 - accuracy: 0.3956 - val_loss: 1.4042 - val_accuracy: 0.3971\n",
      "Epoch 18/30\n",
      "181/181 [==============================] - 111s 612ms/step - loss: 1.3991 - accuracy: 0.3956 - val_loss: 1.4032 - val_accuracy: 0.3971\n",
      "Epoch 19/30\n",
      "181/181 [==============================] - 111s 614ms/step - loss: 1.3992 - accuracy: 0.3956 - val_loss: 1.4040 - val_accuracy: 0.3971\n",
      "Epoch 20/30\n",
      "181/181 [==============================] - 112s 615ms/step - loss: 1.3991 - accuracy: 0.3956 - val_loss: 1.4040 - val_accuracy: 0.3971\n",
      "Epoch 21/30\n",
      "181/181 [==============================] - 112s 620ms/step - loss: 1.3990 - accuracy: 0.3956 - val_loss: 1.4040 - val_accuracy: 0.3971\n",
      "Epoch 22/30\n",
      "181/181 [==============================] - 112s 618ms/step - loss: 1.3992 - accuracy: 0.3956 - val_loss: 1.4037 - val_accuracy: 0.3971\n",
      "Epoch 23/30\n",
      "181/181 [==============================] - 112s 619ms/step - loss: 1.3990 - accuracy: 0.3956 - val_loss: 1.4038 - val_accuracy: 0.3971\n",
      "Epoch 24/30\n",
      "181/181 [==============================] - 113s 621ms/step - loss: 1.3990 - accuracy: 0.3956 - val_loss: 1.4034 - val_accuracy: 0.3971\n",
      "Epoch 25/30\n",
      "181/181 [==============================] - 113s 621ms/step - loss: 1.3990 - accuracy: 0.3956 - val_loss: 1.4040 - val_accuracy: 0.3971\n",
      "Epoch 26/30\n",
      "181/181 [==============================] - 112s 616ms/step - loss: 1.3991 - accuracy: 0.3956 - val_loss: 1.4039 - val_accuracy: 0.3971\n",
      "Epoch 27/30\n",
      "181/181 [==============================] - 112s 617ms/step - loss: 1.3989 - accuracy: 0.3956 - val_loss: 1.4038 - val_accuracy: 0.3971\n",
      "Epoch 28/30\n",
      "181/181 [==============================] - 112s 618ms/step - loss: 1.3990 - accuracy: 0.3956 - val_loss: 1.4039 - val_accuracy: 0.3971\n",
      "Epoch 29/30\n",
      "181/181 [==============================] - 112s 615ms/step - loss: 1.3991 - accuracy: 0.3956 - val_loss: 1.4038 - val_accuracy: 0.3971\n",
      "Epoch 30/30\n",
      "181/181 [==============================] - 113s 620ms/step - loss: 1.3987 - accuracy: 0.3956 - val_loss: 1.4043 - val_accuracy: 0.3971\n",
      "52/52 [==============================] - 17s 331ms/step - loss: 1.4059 - accuracy: 0.3859\n"
     ]
    }
   ],
   "source": [
    "inceptionnet_model = tf.keras.applications.inception_v3.InceptionV3(include_top=False,\n",
    "                   input_shape=INPUT,\n",
    "                   pooling='avg',classes=5,\n",
    "                   weights='imagenet')\n",
    "\n",
    "show_results(inceptionnet_model, 30, 0.001)"
   ]
  },
  {
   "cell_type": "markdown",
   "id": "7586351a",
   "metadata": {
    "papermill": {
     "duration": 2.405438,
     "end_time": "2024-03-30T00:21:28.618154",
     "exception": false,
     "start_time": "2024-03-30T00:21:26.212716",
     "status": "completed"
    },
    "tags": []
   },
   "source": [
    "### VGG16"
   ]
  },
  {
   "cell_type": "code",
   "execution_count": 26,
   "id": "a065ff39",
   "metadata": {
    "execution": {
     "iopub.execute_input": "2024-03-30T00:21:33.284235Z",
     "iopub.status.busy": "2024-03-30T00:21:33.283864Z",
     "iopub.status.idle": "2024-03-30T01:37:30.612453Z",
     "shell.execute_reply": "2024-03-30T01:37:30.611646Z"
    },
    "papermill": {
     "duration": 4559.589278,
     "end_time": "2024-03-30T01:37:30.614684",
     "exception": false,
     "start_time": "2024-03-30T00:21:31.025406",
     "status": "completed"
    },
    "tags": []
   },
   "outputs": [
    {
     "name": "stdout",
     "output_type": "stream",
     "text": [
      "Model: \"sequential_4\"\n",
      "_________________________________________________________________\n",
      " Layer (type)                Output Shape              Param #   \n",
      "=================================================================\n",
      " vgg16 (Functional)          (None, 512)               14714688  \n",
      "                                                                 \n",
      " flatten_7 (Flatten)         (None, 512)               0         \n",
      "                                                                 \n",
      " dense_24 (Dense)            (None, 128)               65664     \n",
      "                                                                 \n",
      " dense_25 (Dense)            (None, 32)                4128      \n",
      "                                                                 \n",
      " dense_26 (Dense)            (None, 8)                 264       \n",
      "                                                                 \n",
      " dense_27 (Dense)            (None, 4)                 36        \n",
      "                                                                 \n",
      " keras_layer (KerasLayer)    (None, 4)                 12        \n",
      "                                                                 \n",
      " dense_28 (Dense)            (None, 5)                 25        \n",
      "                                                                 \n",
      "=================================================================\n",
      "Total params: 14784817 (56.40 MB)\n",
      "Trainable params: 70129 (273.94 KB)\n",
      "Non-trainable params: 14714688 (56.13 MB)\n",
      "_________________________________________________________________\n",
      "Epoch 1/30\n",
      "181/181 [==============================] - 149s 819ms/step - loss: 1.4794 - accuracy: 0.3532 - val_loss: 1.4307 - val_accuracy: 0.3850\n",
      "Epoch 2/30\n",
      "181/181 [==============================] - 150s 827ms/step - loss: 1.4034 - accuracy: 0.3991 - val_loss: 1.3665 - val_accuracy: 0.4140\n",
      "Epoch 3/30\n",
      "181/181 [==============================] - 151s 834ms/step - loss: 1.3377 - accuracy: 0.4398 - val_loss: 1.2998 - val_accuracy: 0.4504\n",
      "Epoch 4/30\n",
      "181/181 [==============================] - 151s 834ms/step - loss: 1.2757 - accuracy: 0.4701 - val_loss: 1.2576 - val_accuracy: 0.4564\n",
      "Epoch 5/30\n",
      "181/181 [==============================] - 151s 833ms/step - loss: 1.2319 - accuracy: 0.4879 - val_loss: 1.2053 - val_accuracy: 0.4976\n",
      "Epoch 6/30\n",
      "181/181 [==============================] - 152s 835ms/step - loss: 1.1967 - accuracy: 0.4984 - val_loss: 1.2848 - val_accuracy: 0.4516\n",
      "Epoch 7/30\n",
      "181/181 [==============================] - 152s 836ms/step - loss: 1.1615 - accuracy: 0.5180 - val_loss: 1.2018 - val_accuracy: 0.4855\n",
      "Epoch 8/30\n",
      "181/181 [==============================] - 151s 836ms/step - loss: 1.1452 - accuracy: 0.5268 - val_loss: 1.2066 - val_accuracy: 0.5048\n",
      "Epoch 9/30\n",
      "181/181 [==============================] - 152s 836ms/step - loss: 1.1219 - accuracy: 0.5343 - val_loss: 1.1672 - val_accuracy: 0.5085\n",
      "Epoch 10/30\n",
      "181/181 [==============================] - 151s 835ms/step - loss: 1.1087 - accuracy: 0.5382 - val_loss: 1.1550 - val_accuracy: 0.5048\n",
      "Epoch 11/30\n",
      "181/181 [==============================] - 151s 835ms/step - loss: 1.0971 - accuracy: 0.5396 - val_loss: 1.1456 - val_accuracy: 0.4988\n",
      "Epoch 12/30\n",
      "181/181 [==============================] - 152s 837ms/step - loss: 1.0766 - accuracy: 0.5481 - val_loss: 1.1530 - val_accuracy: 0.5157\n",
      "Epoch 13/30\n",
      "181/181 [==============================] - 152s 837ms/step - loss: 1.0687 - accuracy: 0.5543 - val_loss: 1.1948 - val_accuracy: 0.4952\n",
      "Epoch 14/30\n",
      "181/181 [==============================] - 152s 836ms/step - loss: 1.0589 - accuracy: 0.5649 - val_loss: 1.1529 - val_accuracy: 0.4988\n",
      "Epoch 15/30\n",
      "181/181 [==============================] - 152s 837ms/step - loss: 1.0511 - accuracy: 0.5663 - val_loss: 1.1448 - val_accuracy: 0.5048\n",
      "Epoch 16/30\n",
      "181/181 [==============================] - 152s 837ms/step - loss: 1.0474 - accuracy: 0.5644 - val_loss: 1.1730 - val_accuracy: 0.4927\n",
      "Epoch 17/30\n",
      "181/181 [==============================] - 152s 841ms/step - loss: 1.0237 - accuracy: 0.5815 - val_loss: 1.1907 - val_accuracy: 0.4939\n",
      "Epoch 18/30\n",
      "181/181 [==============================] - 152s 840ms/step - loss: 1.0211 - accuracy: 0.5782 - val_loss: 1.2225 - val_accuracy: 0.4746\n",
      "Epoch 19/30\n",
      "181/181 [==============================] - 152s 838ms/step - loss: 1.0086 - accuracy: 0.5841 - val_loss: 1.1927 - val_accuracy: 0.4794\n",
      "Epoch 20/30\n",
      "181/181 [==============================] - 151s 835ms/step - loss: 0.9866 - accuracy: 0.5950 - val_loss: 1.2075 - val_accuracy: 0.4867\n",
      "Epoch 21/30\n",
      "181/181 [==============================] - 151s 835ms/step - loss: 0.9825 - accuracy: 0.5969 - val_loss: 1.1815 - val_accuracy: 0.4988\n",
      "Epoch 22/30\n",
      "181/181 [==============================] - 151s 835ms/step - loss: 0.9651 - accuracy: 0.6073 - val_loss: 1.2170 - val_accuracy: 0.4927\n",
      "Epoch 23/30\n",
      "181/181 [==============================] - 152s 836ms/step - loss: 0.9665 - accuracy: 0.6006 - val_loss: 1.2280 - val_accuracy: 0.4939\n",
      "Epoch 24/30\n",
      "181/181 [==============================] - 152s 836ms/step - loss: 0.9507 - accuracy: 0.6115 - val_loss: 1.2305 - val_accuracy: 0.4891\n",
      "Epoch 25/30\n",
      "181/181 [==============================] - 152s 835ms/step - loss: 0.9446 - accuracy: 0.6147 - val_loss: 1.1957 - val_accuracy: 0.5000\n",
      "Epoch 26/30\n",
      "181/181 [==============================] - 151s 834ms/step - loss: 0.9312 - accuracy: 0.6201 - val_loss: 1.1934 - val_accuracy: 0.5061\n",
      "Epoch 27/30\n",
      "181/181 [==============================] - 151s 835ms/step - loss: 0.9132 - accuracy: 0.6301 - val_loss: 1.2291 - val_accuracy: 0.5085\n",
      "Epoch 28/30\n",
      "181/181 [==============================] - 152s 836ms/step - loss: 0.9150 - accuracy: 0.6276 - val_loss: 1.2099 - val_accuracy: 0.5048\n",
      "Epoch 29/30\n",
      "181/181 [==============================] - 151s 835ms/step - loss: 0.9052 - accuracy: 0.6340 - val_loss: 1.2303 - val_accuracy: 0.5121\n",
      "Epoch 30/30\n",
      "181/181 [==============================] - 151s 835ms/step - loss: 0.9096 - accuracy: 0.6355 - val_loss: 1.2563 - val_accuracy: 0.4806\n",
      "52/52 [==============================] - 14s 269ms/step - loss: 1.2423 - accuracy: 0.4970\n"
     ]
    }
   ],
   "source": [
    "vgg16_model = tf.keras.applications.vgg16.VGG16(include_top=False,\n",
    "                   input_shape=INPUT,\n",
    "                   pooling='avg',classes=5,\n",
    "                   weights='imagenet')\n",
    "\n",
    "show_results(vgg16_model, 30, 0.001)"
   ]
  },
  {
   "cell_type": "markdown",
   "id": "64353ace",
   "metadata": {
    "papermill": {
     "duration": 2.691645,
     "end_time": "2024-03-30T01:37:36.178403",
     "exception": false,
     "start_time": "2024-03-30T01:37:33.486758",
     "status": "completed"
    },
    "tags": []
   },
   "source": [
    "### XceptionNet"
   ]
  },
  {
   "cell_type": "code",
   "execution_count": 27,
   "id": "778e72e4",
   "metadata": {
    "execution": {
     "iopub.execute_input": "2024-03-30T01:37:42.036259Z",
     "iopub.status.busy": "2024-03-30T01:37:42.030668Z",
     "iopub.status.idle": "2024-03-30T02:39:08.398304Z",
     "shell.execute_reply": "2024-03-30T02:39:08.397217Z"
    },
    "papermill": {
     "duration": 3689.402382,
     "end_time": "2024-03-30T02:39:08.400679",
     "exception": false,
     "start_time": "2024-03-30T01:37:38.998297",
     "status": "completed"
    },
    "tags": []
   },
   "outputs": [
    {
     "name": "stdout",
     "output_type": "stream",
     "text": [
      "Downloading data from https://storage.googleapis.com/tensorflow/keras-applications/xception/xception_weights_tf_dim_ordering_tf_kernels_notop.h5\n",
      "83683744/83683744 [==============================] - 0s 0us/step\n",
      "Model: \"sequential_5\"\n",
      "_________________________________________________________________\n",
      " Layer (type)                Output Shape              Param #   \n",
      "=================================================================\n",
      " xception (Functional)       (None, 2048)              20861480  \n",
      "                                                                 \n",
      " flatten_8 (Flatten)         (None, 2048)              0         \n",
      "                                                                 \n",
      " dense_29 (Dense)            (None, 128)               262272    \n",
      "                                                                 \n",
      " dense_30 (Dense)            (None, 32)                4128      \n",
      "                                                                 \n",
      " dense_31 (Dense)            (None, 8)                 264       \n",
      "                                                                 \n",
      " dense_32 (Dense)            (None, 4)                 36        \n",
      "                                                                 \n",
      " keras_layer (KerasLayer)    (None, 4)                 12        \n",
      "                                                                 \n",
      " dense_33 (Dense)            (None, 5)                 25        \n",
      "                                                                 \n",
      "=================================================================\n",
      "Total params: 21128217 (80.60 MB)\n",
      "Trainable params: 266737 (1.02 MB)\n",
      "Non-trainable params: 20861480 (79.58 MB)\n",
      "_________________________________________________________________\n",
      "Epoch 1/30\n",
      "181/181 [==============================] - 126s 676ms/step - loss: 1.4525 - accuracy: 0.3944 - val_loss: 1.4290 - val_accuracy: 0.3971\n",
      "Epoch 2/30\n",
      "181/181 [==============================] - 120s 664ms/step - loss: 1.4163 - accuracy: 0.3956 - val_loss: 1.4181 - val_accuracy: 0.3971\n",
      "Epoch 3/30\n",
      "181/181 [==============================] - 120s 660ms/step - loss: 1.4053 - accuracy: 0.3956 - val_loss: 1.4052 - val_accuracy: 0.3971\n",
      "Epoch 4/30\n",
      "181/181 [==============================] - 120s 664ms/step - loss: 1.4014 - accuracy: 0.3956 - val_loss: 1.4047 - val_accuracy: 0.3971\n",
      "Epoch 5/30\n",
      "181/181 [==============================] - 121s 666ms/step - loss: 1.3999 - accuracy: 0.3956 - val_loss: 1.4049 - val_accuracy: 0.3971\n",
      "Epoch 6/30\n",
      "181/181 [==============================] - 121s 666ms/step - loss: 1.3995 - accuracy: 0.3956 - val_loss: 1.4037 - val_accuracy: 0.3971\n",
      "Epoch 7/30\n",
      "181/181 [==============================] - 121s 668ms/step - loss: 1.4003 - accuracy: 0.3956 - val_loss: 1.4040 - val_accuracy: 0.3971\n",
      "Epoch 8/30\n",
      "181/181 [==============================] - 121s 665ms/step - loss: 1.3995 - accuracy: 0.3956 - val_loss: 1.4033 - val_accuracy: 0.3971\n",
      "Epoch 9/30\n",
      "181/181 [==============================] - 121s 667ms/step - loss: 1.3992 - accuracy: 0.3956 - val_loss: 1.4035 - val_accuracy: 0.3971\n",
      "Epoch 10/30\n",
      "181/181 [==============================] - 121s 666ms/step - loss: 1.3993 - accuracy: 0.3956 - val_loss: 1.4039 - val_accuracy: 0.3971\n",
      "Epoch 11/30\n",
      "181/181 [==============================] - 121s 668ms/step - loss: 1.3990 - accuracy: 0.3956 - val_loss: 1.4040 - val_accuracy: 0.3971\n",
      "Epoch 12/30\n",
      "181/181 [==============================] - 121s 669ms/step - loss: 1.3991 - accuracy: 0.3956 - val_loss: 1.4036 - val_accuracy: 0.3971\n",
      "Epoch 13/30\n",
      "181/181 [==============================] - 122s 673ms/step - loss: 1.3989 - accuracy: 0.3956 - val_loss: 1.4045 - val_accuracy: 0.3971\n",
      "Epoch 14/30\n",
      "181/181 [==============================] - 122s 670ms/step - loss: 1.3993 - accuracy: 0.3956 - val_loss: 1.4036 - val_accuracy: 0.3971\n",
      "Epoch 15/30\n",
      "181/181 [==============================] - 122s 670ms/step - loss: 1.3991 - accuracy: 0.3956 - val_loss: 1.4041 - val_accuracy: 0.3971\n",
      "Epoch 16/30\n",
      "181/181 [==============================] - 121s 667ms/step - loss: 1.3993 - accuracy: 0.3956 - val_loss: 1.4039 - val_accuracy: 0.3971\n",
      "Epoch 17/30\n",
      "181/181 [==============================] - 121s 666ms/step - loss: 1.3989 - accuracy: 0.3956 - val_loss: 1.4038 - val_accuracy: 0.3971\n",
      "Epoch 18/30\n",
      "181/181 [==============================] - 121s 666ms/step - loss: 1.3990 - accuracy: 0.3956 - val_loss: 1.4030 - val_accuracy: 0.3971\n",
      "Epoch 19/30\n",
      "181/181 [==============================] - 121s 667ms/step - loss: 1.3992 - accuracy: 0.3956 - val_loss: 1.4048 - val_accuracy: 0.3971\n",
      "Epoch 20/30\n",
      "181/181 [==============================] - 121s 667ms/step - loss: 1.3993 - accuracy: 0.3956 - val_loss: 1.4040 - val_accuracy: 0.3971\n",
      "Epoch 21/30\n",
      "181/181 [==============================] - 121s 666ms/step - loss: 1.3990 - accuracy: 0.3956 - val_loss: 1.4034 - val_accuracy: 0.3971\n",
      "Epoch 22/30\n",
      "181/181 [==============================] - 120s 662ms/step - loss: 1.3991 - accuracy: 0.3956 - val_loss: 1.4040 - val_accuracy: 0.3971\n",
      "Epoch 23/30\n",
      "181/181 [==============================] - 120s 665ms/step - loss: 1.3992 - accuracy: 0.3956 - val_loss: 1.4037 - val_accuracy: 0.3971\n",
      "Epoch 24/30\n",
      "181/181 [==============================] - 121s 665ms/step - loss: 1.3990 - accuracy: 0.3956 - val_loss: 1.4033 - val_accuracy: 0.3971\n",
      "Epoch 25/30\n",
      "181/181 [==============================] - 121s 667ms/step - loss: 1.3990 - accuracy: 0.3956 - val_loss: 1.4040 - val_accuracy: 0.3971\n",
      "Epoch 26/30\n",
      "181/181 [==============================] - 120s 665ms/step - loss: 1.3991 - accuracy: 0.3956 - val_loss: 1.4039 - val_accuracy: 0.3971\n",
      "Epoch 27/30\n",
      "181/181 [==============================] - 121s 665ms/step - loss: 1.3991 - accuracy: 0.3956 - val_loss: 1.4038 - val_accuracy: 0.3971\n",
      "Epoch 28/30\n",
      "181/181 [==============================] - 120s 664ms/step - loss: 1.3989 - accuracy: 0.3956 - val_loss: 1.4040 - val_accuracy: 0.3971\n",
      "Epoch 29/30\n",
      "181/181 [==============================] - 121s 665ms/step - loss: 1.3989 - accuracy: 0.3956 - val_loss: 1.4038 - val_accuracy: 0.3971\n",
      "Epoch 30/30\n",
      "181/181 [==============================] - 121s 665ms/step - loss: 1.3990 - accuracy: 0.3956 - val_loss: 1.4041 - val_accuracy: 0.3971\n",
      "52/52 [==============================] - 12s 229ms/step - loss: 1.4062 - accuracy: 0.3859\n"
     ]
    }
   ],
   "source": [
    "xception_model = tf.keras.applications.xception.Xception(include_top=False,\n",
    "                   input_shape=INPUT,\n",
    "                   pooling='avg',classes=5,\n",
    "                   weights='imagenet')\n",
    "\n",
    "show_results(xception_model, 30, 0.001)"
   ]
  },
  {
   "cell_type": "markdown",
   "id": "c7396145",
   "metadata": {
    "papermill": {
     "duration": 3.452905,
     "end_time": "2024-03-30T02:39:15.232938",
     "exception": false,
     "start_time": "2024-03-30T02:39:11.780033",
     "status": "completed"
    },
    "tags": []
   },
   "source": [
    "### Resnet152"
   ]
  },
  {
   "cell_type": "code",
   "execution_count": 28,
   "id": "a44a5a0e",
   "metadata": {
    "execution": {
     "iopub.execute_input": "2024-03-30T02:39:21.972450Z",
     "iopub.status.busy": "2024-03-30T02:39:21.971976Z",
     "iopub.status.idle": "2024-03-30T04:14:30.970379Z",
     "shell.execute_reply": "2024-03-30T04:14:30.969069Z"
    },
    "papermill": {
     "duration": 5715.732551,
     "end_time": "2024-03-30T04:14:34.374200",
     "exception": false,
     "start_time": "2024-03-30T02:39:18.641649",
     "status": "completed"
    },
    "tags": []
   },
   "outputs": [
    {
     "name": "stdout",
     "output_type": "stream",
     "text": [
      "Downloading data from https://storage.googleapis.com/tensorflow/keras-applications/resnet/resnet152_weights_tf_dim_ordering_tf_kernels_notop.h5\n",
      "234698864/234698864 [==============================] - 1s 0us/step\n",
      "Model: \"sequential_6\"\n",
      "_________________________________________________________________\n",
      " Layer (type)                Output Shape              Param #   \n",
      "=================================================================\n",
      " resnet152 (Functional)      (None, 2048)              58370944  \n",
      "                                                                 \n",
      " flatten_9 (Flatten)         (None, 2048)              0         \n",
      "                                                                 \n",
      " dense_34 (Dense)            (None, 128)               262272    \n",
      "                                                                 \n",
      " dense_35 (Dense)            (None, 32)                4128      \n",
      "                                                                 \n",
      " dense_36 (Dense)            (None, 8)                 264       \n",
      "                                                                 \n",
      " dense_37 (Dense)            (None, 4)                 36        \n",
      "                                                                 \n",
      " keras_layer (KerasLayer)    (None, 4)                 12        \n",
      "                                                                 \n",
      " dense_38 (Dense)            (None, 5)                 25        \n",
      "                                                                 \n",
      "=================================================================\n",
      "Total params: 58637681 (223.69 MB)\n",
      "Trainable params: 266737 (1.02 MB)\n",
      "Non-trainable params: 58370944 (222.67 MB)\n",
      "_________________________________________________________________\n",
      "Epoch 1/30\n",
      "181/181 [==============================] - 188s 1s/step - loss: 1.4750 - accuracy: 0.3835 - val_loss: 1.3979 - val_accuracy: 0.4334\n",
      "Epoch 2/30\n",
      "181/181 [==============================] - 189s 1s/step - loss: 1.3374 - accuracy: 0.4708 - val_loss: 1.3132 - val_accuracy: 0.4746\n",
      "Epoch 3/30\n",
      "181/181 [==============================] - 189s 1s/step - loss: 1.2749 - accuracy: 0.4836 - val_loss: 1.2794 - val_accuracy: 0.4685\n",
      "Epoch 4/30\n",
      "181/181 [==============================] - 189s 1s/step - loss: 1.2132 - accuracy: 0.4997 - val_loss: 1.2426 - val_accuracy: 0.4831\n",
      "Epoch 5/30\n",
      "181/181 [==============================] - 189s 1s/step - loss: 1.1853 - accuracy: 0.5322 - val_loss: 1.2445 - val_accuracy: 0.4661\n",
      "Epoch 6/30\n",
      "181/181 [==============================] - 189s 1s/step - loss: 1.1684 - accuracy: 0.5315 - val_loss: 1.2068 - val_accuracy: 0.4939\n",
      "Epoch 7/30\n",
      "181/181 [==============================] - 189s 1s/step - loss: 1.1340 - accuracy: 0.5445 - val_loss: 1.1843 - val_accuracy: 0.5097\n",
      "Epoch 8/30\n",
      "181/181 [==============================] - 190s 1s/step - loss: 1.1181 - accuracy: 0.5488 - val_loss: 1.1985 - val_accuracy: 0.5000\n",
      "Epoch 9/30\n",
      "181/181 [==============================] - 190s 1s/step - loss: 1.1041 - accuracy: 0.5633 - val_loss: 1.1903 - val_accuracy: 0.5000\n",
      "Epoch 10/30\n",
      "181/181 [==============================] - 189s 1s/step - loss: 1.0865 - accuracy: 0.5710 - val_loss: 1.1662 - val_accuracy: 0.5133\n",
      "Epoch 11/30\n",
      "181/181 [==============================] - 189s 1s/step - loss: 1.0653 - accuracy: 0.5713 - val_loss: 1.2463 - val_accuracy: 0.4637\n",
      "Epoch 12/30\n",
      "181/181 [==============================] - 189s 1s/step - loss: 1.0565 - accuracy: 0.5779 - val_loss: 1.1888 - val_accuracy: 0.5073\n",
      "Epoch 13/30\n",
      "181/181 [==============================] - 189s 1s/step - loss: 1.0333 - accuracy: 0.5895 - val_loss: 1.1799 - val_accuracy: 0.5085\n",
      "Epoch 14/30\n",
      "181/181 [==============================] - 189s 1s/step - loss: 1.0267 - accuracy: 0.5957 - val_loss: 1.1884 - val_accuracy: 0.4952\n",
      "Epoch 15/30\n",
      "181/181 [==============================] - 189s 1s/step - loss: 1.0113 - accuracy: 0.6044 - val_loss: 1.1703 - val_accuracy: 0.5109\n",
      "Epoch 16/30\n",
      "181/181 [==============================] - 190s 1s/step - loss: 0.9927 - accuracy: 0.6101 - val_loss: 1.1898 - val_accuracy: 0.5073\n",
      "Epoch 17/30\n",
      "181/181 [==============================] - 190s 1s/step - loss: 0.9935 - accuracy: 0.6085 - val_loss: 1.1871 - val_accuracy: 0.5048\n",
      "Epoch 18/30\n",
      "181/181 [==============================] - 190s 1s/step - loss: 0.9705 - accuracy: 0.6130 - val_loss: 1.2008 - val_accuracy: 0.5145\n",
      "Epoch 19/30\n",
      "181/181 [==============================] - 189s 1s/step - loss: 0.9700 - accuracy: 0.6179 - val_loss: 1.2004 - val_accuracy: 0.5145\n",
      "Epoch 20/30\n",
      "181/181 [==============================] - 189s 1s/step - loss: 0.9553 - accuracy: 0.6239 - val_loss: 1.2135 - val_accuracy: 0.5206\n",
      "Epoch 21/30\n",
      "181/181 [==============================] - 190s 1s/step - loss: 0.9380 - accuracy: 0.6263 - val_loss: 1.2301 - val_accuracy: 0.5157\n",
      "Epoch 22/30\n",
      "181/181 [==============================] - 189s 1s/step - loss: 0.9209 - accuracy: 0.6393 - val_loss: 1.2047 - val_accuracy: 0.5097\n",
      "Epoch 23/30\n",
      "181/181 [==============================] - 188s 1s/step - loss: 0.9171 - accuracy: 0.6405 - val_loss: 1.2350 - val_accuracy: 0.4915\n",
      "Epoch 24/30\n",
      "181/181 [==============================] - 189s 1s/step - loss: 0.9018 - accuracy: 0.6438 - val_loss: 1.2326 - val_accuracy: 0.4927\n",
      "Epoch 25/30\n",
      "181/181 [==============================] - 189s 1s/step - loss: 0.8845 - accuracy: 0.6511 - val_loss: 1.2942 - val_accuracy: 0.4831\n",
      "Epoch 26/30\n",
      "181/181 [==============================] - 189s 1s/step - loss: 0.8660 - accuracy: 0.6623 - val_loss: 1.2415 - val_accuracy: 0.5012\n",
      "Epoch 27/30\n",
      "181/181 [==============================] - 190s 1s/step - loss: 0.8562 - accuracy: 0.6644 - val_loss: 1.2664 - val_accuracy: 0.4927\n",
      "Epoch 28/30\n",
      "181/181 [==============================] - 191s 1s/step - loss: 0.8408 - accuracy: 0.6668 - val_loss: 1.3018 - val_accuracy: 0.4709\n",
      "Epoch 29/30\n",
      "181/181 [==============================] - 190s 1s/step - loss: 0.8337 - accuracy: 0.6691 - val_loss: 1.2715 - val_accuracy: 0.4831\n",
      "Epoch 30/30\n",
      "181/181 [==============================] - 190s 1s/step - loss: 0.8125 - accuracy: 0.6772 - val_loss: 1.2843 - val_accuracy: 0.5303\n",
      "52/52 [==============================] - 21s 405ms/step - loss: 1.2110 - accuracy: 0.5399\n"
     ]
    }
   ],
   "source": [
    "resnet152_model = tf.keras.applications.resnet.ResNet152(include_top=False,\n",
    "                   input_shape=INPUT,\n",
    "                   pooling='avg',classes=5,\n",
    "                   weights='imagenet')\n",
    "\n",
    "show_results(resnet152_model, 30, 0.001)"
   ]
  },
  {
   "cell_type": "code",
   "execution_count": null,
   "id": "26aabb3b",
   "metadata": {
    "papermill": {
     "duration": 3.767994,
     "end_time": "2024-03-30T04:14:41.733884",
     "exception": false,
     "start_time": "2024-03-30T04:14:37.965890",
     "status": "completed"
    },
    "tags": []
   },
   "outputs": [],
   "source": []
  }
 ],
 "metadata": {
  "kaggle": {
   "accelerator": "nvidiaTeslaT4",
   "dataSources": [
    {
     "datasetId": 1257880,
     "sourceId": 2097406,
     "sourceType": "datasetVersion"
    },
    {
     "datasetId": 1320807,
     "sourceId": 2199581,
     "sourceType": "datasetVersion"
    }
   ],
   "dockerImageVersionId": 30648,
   "isGpuEnabled": true,
   "isInternetEnabled": true,
   "language": "python",
   "sourceType": "notebook"
  },
  "kernelspec": {
   "display_name": "Python 3",
   "language": "python",
   "name": "python3"
  },
  "language_info": {
   "codemirror_mode": {
    "name": "ipython",
    "version": 3
   },
   "file_extension": ".py",
   "mimetype": "text/x-python",
   "name": "python",
   "nbconvert_exporter": "python",
   "pygments_lexer": "ipython3",
   "version": "3.10.13"
  },
  "papermill": {
   "default_parameters": {},
   "duration": 33423.46496,
   "end_time": "2024-03-30T04:14:48.543361",
   "environment_variables": {},
   "exception": null,
   "input_path": "__notebook__.ipynb",
   "output_path": "__notebook__.ipynb",
   "parameters": {},
   "start_time": "2024-03-29T18:57:45.078401",
   "version": "2.5.0"
  }
 },
 "nbformat": 4,
 "nbformat_minor": 5
}
